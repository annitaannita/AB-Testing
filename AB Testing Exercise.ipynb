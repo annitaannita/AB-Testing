{
 "cells": [
  {
   "cell_type": "markdown",
   "id": "1d9c5403",
   "metadata": {},
   "source": [
    "# A/B Testing on E-commerce\n",
    "\n",
    "*(Personal Projects for Learning Purpose)*"
   ]
  },
  {
   "cell_type": "markdown",
   "id": "e114ff31",
   "metadata": {},
   "source": [
    "## Project Intro"
   ]
  },
  {
   "cell_type": "markdown",
   "id": "cbce9c66",
   "metadata": {},
   "source": [
    "**Background**\n",
    "\n",
    "An e-commerce would like to launch a new version of menu page from the website, so the Product Manager asked to do an experiment with the hope that the new version of menu page will lead to a higher conversion rate. Let's assume that the conversion rate in this e-commerce was 12%, and the Product Manager would like to increase conversion rate to 15%.\n",
    "\n"
   ]
  },
  {
   "cell_type": "markdown",
   "id": "e1dd9c47",
   "metadata": {},
   "source": [
    "**Dataset**\n",
    "\n",
    "The dataset was taken from <a href= \"https://www.kaggle.com/datasets/zhangluyuan/ab-testing\">Kaggle</a> and consists of `user ID`, `timestamp`, `control/treatment group`, `type of landing page`, and whether the user `converted` or not."
   ]
  },
  {
   "cell_type": "markdown",
   "id": "1e9f4b1a",
   "metadata": {},
   "source": [
    "**Project Purpose**\n",
    "\n",
    "The purpose was to help the Product Manager in deciding which menu page is giving better conversion rate."
   ]
  },
  {
   "cell_type": "markdown",
   "id": "dc8d01f1",
   "metadata": {},
   "source": [
    "## Data Preparation"
   ]
  },
  {
   "cell_type": "markdown",
   "id": "78a41723",
   "metadata": {},
   "source": [
    "### Import Library and Dataset"
   ]
  },
  {
   "cell_type": "code",
   "execution_count": 45,
   "id": "eb7bc6a0",
   "metadata": {},
   "outputs": [],
   "source": [
    "# import library\n",
    "import pandas as pd\n",
    "import numpy as np\n",
    "import seaborn as sns\n",
    "import statsmodels.stats.api as sms\n",
    "import matplotlib.pyplot as plt\n",
    "import math"
   ]
  },
  {
   "cell_type": "code",
   "execution_count": 2,
   "id": "a393d39e",
   "metadata": {},
   "outputs": [],
   "source": [
    "# import file csv \n",
    "ori_data = pd.read_csv(r'E:\\Learn Data\\Projects\\ab_ecommerce.csv')"
   ]
  },
  {
   "cell_type": "markdown",
   "id": "212d1fab",
   "metadata": {},
   "source": [
    "### Cleaning Data"
   ]
  },
  {
   "cell_type": "code",
   "execution_count": 3,
   "id": "ebb8da4e",
   "metadata": {},
   "outputs": [
    {
     "data": {
      "text/html": [
       "<div>\n",
       "<style scoped>\n",
       "    .dataframe tbody tr th:only-of-type {\n",
       "        vertical-align: middle;\n",
       "    }\n",
       "\n",
       "    .dataframe tbody tr th {\n",
       "        vertical-align: top;\n",
       "    }\n",
       "\n",
       "    .dataframe thead th {\n",
       "        text-align: right;\n",
       "    }\n",
       "</style>\n",
       "<table border=\"1\" class=\"dataframe\">\n",
       "  <thead>\n",
       "    <tr style=\"text-align: right;\">\n",
       "      <th></th>\n",
       "      <th>user_id</th>\n",
       "      <th>timestamp</th>\n",
       "      <th>group</th>\n",
       "      <th>landing_page</th>\n",
       "      <th>converted</th>\n",
       "    </tr>\n",
       "  </thead>\n",
       "  <tbody>\n",
       "    <tr>\n",
       "      <th>0</th>\n",
       "      <td>851104</td>\n",
       "      <td>2017-01-21 22:11:48.556739</td>\n",
       "      <td>control</td>\n",
       "      <td>old_page</td>\n",
       "      <td>0</td>\n",
       "    </tr>\n",
       "    <tr>\n",
       "      <th>1</th>\n",
       "      <td>804228</td>\n",
       "      <td>2017-01-12 08:01:45.159739</td>\n",
       "      <td>control</td>\n",
       "      <td>old_page</td>\n",
       "      <td>0</td>\n",
       "    </tr>\n",
       "    <tr>\n",
       "      <th>2</th>\n",
       "      <td>661590</td>\n",
       "      <td>2017-01-11 16:55:06.154213</td>\n",
       "      <td>treatment</td>\n",
       "      <td>new_page</td>\n",
       "      <td>0</td>\n",
       "    </tr>\n",
       "    <tr>\n",
       "      <th>3</th>\n",
       "      <td>853541</td>\n",
       "      <td>2017-01-08 18:28:03.143765</td>\n",
       "      <td>treatment</td>\n",
       "      <td>new_page</td>\n",
       "      <td>0</td>\n",
       "    </tr>\n",
       "    <tr>\n",
       "      <th>4</th>\n",
       "      <td>864975</td>\n",
       "      <td>2017-01-21 01:52:26.210827</td>\n",
       "      <td>control</td>\n",
       "      <td>old_page</td>\n",
       "      <td>1</td>\n",
       "    </tr>\n",
       "  </tbody>\n",
       "</table>\n",
       "</div>"
      ],
      "text/plain": [
       "   user_id                   timestamp      group landing_page  converted\n",
       "0   851104  2017-01-21 22:11:48.556739    control     old_page          0\n",
       "1   804228  2017-01-12 08:01:45.159739    control     old_page          0\n",
       "2   661590  2017-01-11 16:55:06.154213  treatment     new_page          0\n",
       "3   853541  2017-01-08 18:28:03.143765  treatment     new_page          0\n",
       "4   864975  2017-01-21 01:52:26.210827    control     old_page          1"
      ]
     },
     "execution_count": 3,
     "metadata": {},
     "output_type": "execute_result"
    }
   ],
   "source": [
    "# checking dataframe\n",
    "ori_data.head()"
   ]
  },
  {
   "cell_type": "code",
   "execution_count": 4,
   "id": "70ab2e4c",
   "metadata": {},
   "outputs": [
    {
     "name": "stdout",
     "output_type": "stream",
     "text": [
      "<class 'pandas.core.frame.DataFrame'>\n",
      "RangeIndex: 294478 entries, 0 to 294477\n",
      "Data columns (total 5 columns):\n",
      " #   Column        Non-Null Count   Dtype \n",
      "---  ------        --------------   ----- \n",
      " 0   user_id       294478 non-null  int64 \n",
      " 1   timestamp     294478 non-null  object\n",
      " 2   group         294478 non-null  object\n",
      " 3   landing_page  294478 non-null  object\n",
      " 4   converted     294478 non-null  int64 \n",
      "dtypes: int64(2), object(3)\n",
      "memory usage: 11.2+ MB\n"
     ]
    }
   ],
   "source": [
    "# checking data type\n",
    "ori_data.info()"
   ]
  },
  {
   "cell_type": "code",
   "execution_count": 5,
   "id": "5322fae4",
   "metadata": {},
   "outputs": [],
   "source": [
    "df_type = ori_data.copy()"
   ]
  },
  {
   "cell_type": "markdown",
   "id": "e25e1dde",
   "metadata": {},
   "source": [
    "Change `timestamp` column data type from `object` into `datetime64`."
   ]
  },
  {
   "cell_type": "code",
   "execution_count": 6,
   "id": "82a5c6c0",
   "metadata": {},
   "outputs": [],
   "source": [
    "# changing data type\n",
    "df_type['timestamp']= pd.to_datetime(df_type['timestamp'])"
   ]
  },
  {
   "cell_type": "code",
   "execution_count": 30,
   "id": "970b07bd",
   "metadata": {},
   "outputs": [
    {
     "name": "stdout",
     "output_type": "stream",
     "text": [
      "<class 'pandas.core.frame.DataFrame'>\n",
      "RangeIndex: 294478 entries, 0 to 294477\n",
      "Data columns (total 5 columns):\n",
      " #   Column        Non-Null Count   Dtype         \n",
      "---  ------        --------------   -----         \n",
      " 0   user_id       294478 non-null  int64         \n",
      " 1   timestamp     294478 non-null  datetime64[ns]\n",
      " 2   group         294478 non-null  object        \n",
      " 3   landing_page  294478 non-null  object        \n",
      " 4   converted     294478 non-null  int64         \n",
      "dtypes: datetime64[ns](1), int64(2), object(2)\n",
      "memory usage: 11.2+ MB\n"
     ]
    }
   ],
   "source": [
    "# checking data type again\n",
    "df_type.info()"
   ]
  },
  {
   "cell_type": "code",
   "execution_count": 9,
   "id": "a4e73444",
   "metadata": {},
   "outputs": [
    {
     "data": {
      "text/plain": [
       "(294478, 5)"
      ]
     },
     "execution_count": 9,
     "metadata": {},
     "output_type": "execute_result"
    }
   ],
   "source": [
    "# checking data shape\n",
    "df_type.shape"
   ]
  },
  {
   "cell_type": "code",
   "execution_count": 10,
   "id": "2cbaa584",
   "metadata": {},
   "outputs": [],
   "source": [
    "df_dup = df_type.copy()"
   ]
  },
  {
   "cell_type": "code",
   "execution_count": 11,
   "id": "cf012d2c",
   "metadata": {},
   "outputs": [
    {
     "data": {
      "text/html": [
       "<div>\n",
       "<style scoped>\n",
       "    .dataframe tbody tr th:only-of-type {\n",
       "        vertical-align: middle;\n",
       "    }\n",
       "\n",
       "    .dataframe tbody tr th {\n",
       "        vertical-align: top;\n",
       "    }\n",
       "\n",
       "    .dataframe thead th {\n",
       "        text-align: right;\n",
       "    }\n",
       "</style>\n",
       "<table border=\"1\" class=\"dataframe\">\n",
       "  <thead>\n",
       "    <tr style=\"text-align: right;\">\n",
       "      <th></th>\n",
       "      <th>user_id</th>\n",
       "      <th>timestamp</th>\n",
       "      <th>group</th>\n",
       "      <th>landing_page</th>\n",
       "      <th>converted</th>\n",
       "    </tr>\n",
       "  </thead>\n",
       "  <tbody>\n",
       "  </tbody>\n",
       "</table>\n",
       "</div>"
      ],
      "text/plain": [
       "Empty DataFrame\n",
       "Columns: [user_id, timestamp, group, landing_page, converted]\n",
       "Index: []"
      ]
     },
     "execution_count": 11,
     "metadata": {},
     "output_type": "execute_result"
    }
   ],
   "source": [
    "# checking duplicated data\n",
    "df_dup[df_dup.duplicated()]"
   ]
  },
  {
   "cell_type": "code",
   "execution_count": 12,
   "id": "3b02416d",
   "metadata": {},
   "outputs": [
    {
     "data": {
      "text/plain": [
       "user_id         290584\n",
       "timestamp       294478\n",
       "group                2\n",
       "landing_page         2\n",
       "converted            2\n",
       "dtype: int64"
      ]
     },
     "execution_count": 12,
     "metadata": {},
     "output_type": "execute_result"
    }
   ],
   "source": [
    "df_dup.nunique()"
   ]
  },
  {
   "cell_type": "markdown",
   "id": "94180b62",
   "metadata": {},
   "source": [
    "There are users who see more than one menu page in different time. Therefore, we need to remove them."
   ]
  },
  {
   "cell_type": "code",
   "execution_count": 13,
   "id": "216602a2",
   "metadata": {},
   "outputs": [
    {
     "data": {
      "text/html": [
       "<div>\n",
       "<style scoped>\n",
       "    .dataframe tbody tr th:only-of-type {\n",
       "        vertical-align: middle;\n",
       "    }\n",
       "\n",
       "    .dataframe tbody tr th {\n",
       "        vertical-align: top;\n",
       "    }\n",
       "\n",
       "    .dataframe thead th {\n",
       "        text-align: right;\n",
       "    }\n",
       "</style>\n",
       "<table border=\"1\" class=\"dataframe\">\n",
       "  <thead>\n",
       "    <tr style=\"text-align: right;\">\n",
       "      <th></th>\n",
       "      <th>user_id</th>\n",
       "      <th>timestamp</th>\n",
       "      <th>group</th>\n",
       "      <th>landing_page</th>\n",
       "      <th>converted</th>\n",
       "    </tr>\n",
       "  </thead>\n",
       "  <tbody>\n",
       "    <tr>\n",
       "      <th>2656</th>\n",
       "      <td>698120</td>\n",
       "      <td>2017-01-15 17:13:42.602796</td>\n",
       "      <td>control</td>\n",
       "      <td>old_page</td>\n",
       "      <td>0</td>\n",
       "    </tr>\n",
       "    <tr>\n",
       "      <th>2893</th>\n",
       "      <td>773192</td>\n",
       "      <td>2017-01-14 02:55:59.590927</td>\n",
       "      <td>treatment</td>\n",
       "      <td>new_page</td>\n",
       "      <td>0</td>\n",
       "    </tr>\n",
       "    <tr>\n",
       "      <th>7500</th>\n",
       "      <td>899953</td>\n",
       "      <td>2017-01-07 03:06:54.068237</td>\n",
       "      <td>control</td>\n",
       "      <td>new_page</td>\n",
       "      <td>0</td>\n",
       "    </tr>\n",
       "    <tr>\n",
       "      <th>8036</th>\n",
       "      <td>790934</td>\n",
       "      <td>2017-01-19 08:32:20.329057</td>\n",
       "      <td>treatment</td>\n",
       "      <td>new_page</td>\n",
       "      <td>0</td>\n",
       "    </tr>\n",
       "    <tr>\n",
       "      <th>10218</th>\n",
       "      <td>633793</td>\n",
       "      <td>2017-01-17 00:16:00.746561</td>\n",
       "      <td>treatment</td>\n",
       "      <td>old_page</td>\n",
       "      <td>0</td>\n",
       "    </tr>\n",
       "    <tr>\n",
       "      <th>...</th>\n",
       "      <td>...</td>\n",
       "      <td>...</td>\n",
       "      <td>...</td>\n",
       "      <td>...</td>\n",
       "      <td>...</td>\n",
       "    </tr>\n",
       "    <tr>\n",
       "      <th>294308</th>\n",
       "      <td>905197</td>\n",
       "      <td>2017-01-03 06:56:47.488231</td>\n",
       "      <td>treatment</td>\n",
       "      <td>new_page</td>\n",
       "      <td>0</td>\n",
       "    </tr>\n",
       "    <tr>\n",
       "      <th>294309</th>\n",
       "      <td>787083</td>\n",
       "      <td>2017-01-17 00:15:20.950723</td>\n",
       "      <td>control</td>\n",
       "      <td>old_page</td>\n",
       "      <td>0</td>\n",
       "    </tr>\n",
       "    <tr>\n",
       "      <th>294328</th>\n",
       "      <td>641570</td>\n",
       "      <td>2017-01-09 21:59:27.695711</td>\n",
       "      <td>control</td>\n",
       "      <td>old_page</td>\n",
       "      <td>0</td>\n",
       "    </tr>\n",
       "    <tr>\n",
       "      <th>294331</th>\n",
       "      <td>689637</td>\n",
       "      <td>2017-01-13 11:34:28.339532</td>\n",
       "      <td>control</td>\n",
       "      <td>new_page</td>\n",
       "      <td>0</td>\n",
       "    </tr>\n",
       "    <tr>\n",
       "      <th>294355</th>\n",
       "      <td>744456</td>\n",
       "      <td>2017-01-13 09:32:07.106794</td>\n",
       "      <td>treatment</td>\n",
       "      <td>new_page</td>\n",
       "      <td>0</td>\n",
       "    </tr>\n",
       "  </tbody>\n",
       "</table>\n",
       "<p>3894 rows × 5 columns</p>\n",
       "</div>"
      ],
      "text/plain": [
       "        user_id                  timestamp      group landing_page  converted\n",
       "2656     698120 2017-01-15 17:13:42.602796    control     old_page          0\n",
       "2893     773192 2017-01-14 02:55:59.590927  treatment     new_page          0\n",
       "7500     899953 2017-01-07 03:06:54.068237    control     new_page          0\n",
       "8036     790934 2017-01-19 08:32:20.329057  treatment     new_page          0\n",
       "10218    633793 2017-01-17 00:16:00.746561  treatment     old_page          0\n",
       "...         ...                        ...        ...          ...        ...\n",
       "294308   905197 2017-01-03 06:56:47.488231  treatment     new_page          0\n",
       "294309   787083 2017-01-17 00:15:20.950723    control     old_page          0\n",
       "294328   641570 2017-01-09 21:59:27.695711    control     old_page          0\n",
       "294331   689637 2017-01-13 11:34:28.339532    control     new_page          0\n",
       "294355   744456 2017-01-13 09:32:07.106794  treatment     new_page          0\n",
       "\n",
       "[3894 rows x 5 columns]"
      ]
     },
     "execution_count": 13,
     "metadata": {},
     "output_type": "execute_result"
    }
   ],
   "source": [
    "df_dup[df_dup['user_id'].duplicated()]"
   ]
  },
  {
   "cell_type": "code",
   "execution_count": 14,
   "id": "28669f36",
   "metadata": {},
   "outputs": [],
   "source": [
    "# drop all rows with duplicate user_id\n",
    "df_dup = df_dup.drop_duplicates(subset='user_id',keep=False)"
   ]
  },
  {
   "cell_type": "code",
   "execution_count": 15,
   "id": "e4db73bb",
   "metadata": {},
   "outputs": [
    {
     "data": {
      "text/plain": [
       "(286690, 5)"
      ]
     },
     "execution_count": 15,
     "metadata": {},
     "output_type": "execute_result"
    }
   ],
   "source": [
    "# checking the shape again\n",
    "df_dup.shape"
   ]
  },
  {
   "cell_type": "code",
   "execution_count": 16,
   "id": "36a6ec4a",
   "metadata": {},
   "outputs": [
    {
     "name": "stdout",
     "output_type": "stream",
     "text": [
      "Before removing duplicates, there are 294478 rows data.\n",
      "After removing duplicates, there are 286690 rows data. Only 2.6446797383845366% of total data were removed.\n"
     ]
    }
   ],
   "source": [
    "print('Before removing duplicates, there are {} rows data.' .format(len(ori_data)))\n",
    "print('After removing duplicates, there are {} rows data. Only {}% of total data were removed.' .format(len(df_dup),100*(1-(len(df_dup)/len(ori_data)))))"
   ]
  },
  {
   "cell_type": "code",
   "execution_count": 17,
   "id": "1156ad06",
   "metadata": {},
   "outputs": [
    {
     "data": {
      "text/plain": [
       "user_id         0\n",
       "timestamp       0\n",
       "group           0\n",
       "landing_page    0\n",
       "converted       0\n",
       "dtype: int64"
      ]
     },
     "execution_count": 17,
     "metadata": {},
     "output_type": "execute_result"
    }
   ],
   "source": [
    "# checking missing value\n",
    "df_dup.isna().sum()"
   ]
  },
  {
   "cell_type": "markdown",
   "id": "336fe3dc",
   "metadata": {},
   "source": [
    "No missing value detected."
   ]
  },
  {
   "cell_type": "code",
   "execution_count": 18,
   "id": "3171b0f0",
   "metadata": {},
   "outputs": [],
   "source": [
    "df_ok = df_dup.copy()"
   ]
  },
  {
   "cell_type": "markdown",
   "id": "80c60c8b",
   "metadata": {},
   "source": [
    "We need to make sure that users from control group are looking only at the old design, and users from treatment group are looking only at the new design."
   ]
  },
  {
   "cell_type": "code",
   "execution_count": 19,
   "id": "10942d59",
   "metadata": {},
   "outputs": [
    {
     "data": {
      "text/html": [
       "<div>\n",
       "<style scoped>\n",
       "    .dataframe tbody tr th:only-of-type {\n",
       "        vertical-align: middle;\n",
       "    }\n",
       "\n",
       "    .dataframe tbody tr th {\n",
       "        vertical-align: top;\n",
       "    }\n",
       "\n",
       "    .dataframe thead th {\n",
       "        text-align: right;\n",
       "    }\n",
       "</style>\n",
       "<table border=\"1\" class=\"dataframe\">\n",
       "  <thead>\n",
       "    <tr style=\"text-align: right;\">\n",
       "      <th>landing_page</th>\n",
       "      <th>new_page</th>\n",
       "      <th>old_page</th>\n",
       "    </tr>\n",
       "    <tr>\n",
       "      <th>group</th>\n",
       "      <th></th>\n",
       "      <th></th>\n",
       "    </tr>\n",
       "  </thead>\n",
       "  <tbody>\n",
       "    <tr>\n",
       "      <th>control</th>\n",
       "      <td>0</td>\n",
       "      <td>143293</td>\n",
       "    </tr>\n",
       "    <tr>\n",
       "      <th>treatment</th>\n",
       "      <td>143397</td>\n",
       "      <td>0</td>\n",
       "    </tr>\n",
       "  </tbody>\n",
       "</table>\n",
       "</div>"
      ],
      "text/plain": [
       "landing_page  new_page  old_page\n",
       "group                           \n",
       "control              0    143293\n",
       "treatment       143397         0"
      ]
     },
     "execution_count": 19,
     "metadata": {},
     "output_type": "execute_result"
    }
   ],
   "source": [
    "# create frequency table \n",
    "pd.crosstab(df_ok['group'],df_ok['landing_page'])"
   ]
  },
  {
   "cell_type": "markdown",
   "id": "0bc02110",
   "metadata": {},
   "source": [
    "## Data Exploration"
   ]
  },
  {
   "cell_type": "code",
   "execution_count": 27,
   "id": "5c2d32df",
   "metadata": {},
   "outputs": [
    {
     "data": {
      "text/html": [
       "<div>\n",
       "<style scoped>\n",
       "    .dataframe tbody tr th:only-of-type {\n",
       "        vertical-align: middle;\n",
       "    }\n",
       "\n",
       "    .dataframe tbody tr th {\n",
       "        vertical-align: top;\n",
       "    }\n",
       "\n",
       "    .dataframe thead th {\n",
       "        text-align: right;\n",
       "    }\n",
       "</style>\n",
       "<table border=\"1\" class=\"dataframe\">\n",
       "  <thead>\n",
       "    <tr style=\"text-align: right;\">\n",
       "      <th></th>\n",
       "      <th>user_id</th>\n",
       "      <th>timestamp</th>\n",
       "      <th>group</th>\n",
       "      <th>landing_page</th>\n",
       "      <th>converted</th>\n",
       "    </tr>\n",
       "  </thead>\n",
       "  <tbody>\n",
       "    <tr>\n",
       "      <th>0</th>\n",
       "      <td>851104</td>\n",
       "      <td>2017-01-21 22:11:48.556739</td>\n",
       "      <td>control</td>\n",
       "      <td>old_page</td>\n",
       "      <td>0</td>\n",
       "    </tr>\n",
       "    <tr>\n",
       "      <th>1</th>\n",
       "      <td>804228</td>\n",
       "      <td>2017-01-12 08:01:45.159739</td>\n",
       "      <td>control</td>\n",
       "      <td>old_page</td>\n",
       "      <td>0</td>\n",
       "    </tr>\n",
       "    <tr>\n",
       "      <th>2</th>\n",
       "      <td>661590</td>\n",
       "      <td>2017-01-11 16:55:06.154213</td>\n",
       "      <td>treatment</td>\n",
       "      <td>new_page</td>\n",
       "      <td>0</td>\n",
       "    </tr>\n",
       "    <tr>\n",
       "      <th>3</th>\n",
       "      <td>853541</td>\n",
       "      <td>2017-01-08 18:28:03.143765</td>\n",
       "      <td>treatment</td>\n",
       "      <td>new_page</td>\n",
       "      <td>0</td>\n",
       "    </tr>\n",
       "    <tr>\n",
       "      <th>4</th>\n",
       "      <td>864975</td>\n",
       "      <td>2017-01-21 01:52:26.210827</td>\n",
       "      <td>control</td>\n",
       "      <td>old_page</td>\n",
       "      <td>1</td>\n",
       "    </tr>\n",
       "  </tbody>\n",
       "</table>\n",
       "</div>"
      ],
      "text/plain": [
       "   user_id                  timestamp      group landing_page  converted\n",
       "0   851104 2017-01-21 22:11:48.556739    control     old_page          0\n",
       "1   804228 2017-01-12 08:01:45.159739    control     old_page          0\n",
       "2   661590 2017-01-11 16:55:06.154213  treatment     new_page          0\n",
       "3   853541 2017-01-08 18:28:03.143765  treatment     new_page          0\n",
       "4   864975 2017-01-21 01:52:26.210827    control     old_page          1"
      ]
     },
     "execution_count": 27,
     "metadata": {},
     "output_type": "execute_result"
    }
   ],
   "source": [
    "df_ok.head()"
   ]
  },
  {
   "cell_type": "code",
   "execution_count": 26,
   "id": "3537b0cb",
   "metadata": {},
   "outputs": [
    {
     "name": "stdout",
     "output_type": "stream",
     "text": [
      "The experiment was conduct between 2017-01-02 13:42:05.378582 and 2017-01-24 13:41:54.460509\n"
     ]
    }
   ],
   "source": [
    "# checking start and end date of dataset\n",
    "print(\"The experiment was conducted between\", df_ok['timestamp'].min(),'and',df_ok['timestamp'].max())"
   ]
  },
  {
   "cell_type": "code",
   "execution_count": 28,
   "id": "b7c8faca",
   "metadata": {},
   "outputs": [
    {
     "data": {
      "text/html": [
       "<div>\n",
       "<style scoped>\n",
       "    .dataframe tbody tr th:only-of-type {\n",
       "        vertical-align: middle;\n",
       "    }\n",
       "\n",
       "    .dataframe tbody tr th {\n",
       "        vertical-align: top;\n",
       "    }\n",
       "\n",
       "    .dataframe thead th {\n",
       "        text-align: right;\n",
       "    }\n",
       "</style>\n",
       "<table border=\"1\" class=\"dataframe\">\n",
       "  <thead>\n",
       "    <tr style=\"text-align: right;\">\n",
       "      <th></th>\n",
       "      <th>N_Control</th>\n",
       "      <th>N_Treatment</th>\n",
       "      <th>ratio_Control</th>\n",
       "      <th>ratio_Treatment</th>\n",
       "    </tr>\n",
       "  </thead>\n",
       "  <tbody>\n",
       "    <tr>\n",
       "      <th>0</th>\n",
       "      <td>126073</td>\n",
       "      <td>126372</td>\n",
       "      <td>0.879827</td>\n",
       "      <td>0.881274</td>\n",
       "    </tr>\n",
       "    <tr>\n",
       "      <th>1</th>\n",
       "      <td>17220</td>\n",
       "      <td>17025</td>\n",
       "      <td>0.120173</td>\n",
       "      <td>0.118726</td>\n",
       "    </tr>\n",
       "  </tbody>\n",
       "</table>\n",
       "</div>"
      ],
      "text/plain": [
       "   N_Control  N_Treatment  ratio_Control  ratio_Treatment\n",
       "0     126073       126372       0.879827         0.881274\n",
       "1      17220        17025       0.120173         0.118726"
      ]
     },
     "execution_count": 28,
     "metadata": {},
     "output_type": "execute_result"
    }
   ],
   "source": [
    "df_test = pd.DataFrame({'N_Control': df_ok[df_ok['group']=='control'].converted.value_counts(),\n",
    "                       'N_Treatment': df_ok[df_ok['group']=='treatment'].converted.value_counts(),\n",
    "                       'ratio_Control': df_ok[df_ok['group']=='control'].converted.value_counts()/len(df_ok[df_ok['group']=='control']),\n",
    "                       'ratio_Treatment': df_ok[df_ok['group']=='treatment'].converted.value_counts()/len(df_ok[df_ok['group']=='treatment'])})\n",
    "df_test"
   ]
  },
  {
   "cell_type": "code",
   "execution_count": 29,
   "id": "968cf3d8",
   "metadata": {},
   "outputs": [
    {
     "data": {
      "image/png": "[encoded data removed]",
      "text/plain": [
       "<Figure size 1080x432 with 2 Axes>"
      ]
     },
     "metadata": {
      "needs_background": "light"
     },
     "output_type": "display_data"
    }
   ],
   "source": [
    "fig, axes = plt.subplots(1,2)\n",
    "\n",
    "sns.countplot(x='group', data=df_ok, ax=axes[0])\n",
    "axes[0].set(title=\"Total Users for Each Group\", ylabel='Count')\n",
    "\n",
    "sns.countplot(x='converted', data=df_ok, ax=axes[1], hue='group')\n",
    "axes[1].set(title='Number Conversion for Each Group', ylabel='Count')\n",
    "fig.set_size_inches(15, 6)"
   ]
  },
  {
   "cell_type": "markdown",
   "id": "e18f0211",
   "metadata": {},
   "source": [
    "Based on the graph above, total users for each group in this experiment are balanced enough."
   ]
  },
  {
   "cell_type": "code",
   "execution_count": 74,
   "id": "98d3eea1",
   "metadata": {},
   "outputs": [
    {
     "data": {
      "text/html": [
       "<div>\n",
       "<style scoped>\n",
       "    .dataframe tbody tr th:only-of-type {\n",
       "        vertical-align: middle;\n",
       "    }\n",
       "\n",
       "    .dataframe tbody tr th {\n",
       "        vertical-align: top;\n",
       "    }\n",
       "\n",
       "    .dataframe thead th {\n",
       "        text-align: right;\n",
       "    }\n",
       "</style>\n",
       "<table border=\"1\" class=\"dataframe\">\n",
       "  <thead>\n",
       "    <tr style=\"text-align: right;\">\n",
       "      <th></th>\n",
       "      <th>conversion_rate</th>\n",
       "      <th>std_deviation</th>\n",
       "    </tr>\n",
       "    <tr>\n",
       "      <th>group</th>\n",
       "      <th></th>\n",
       "      <th></th>\n",
       "    </tr>\n",
       "  </thead>\n",
       "  <tbody>\n",
       "    <tr>\n",
       "      <th>control</th>\n",
       "      <td>0.120173</td>\n",
       "      <td>0.325165</td>\n",
       "    </tr>\n",
       "    <tr>\n",
       "      <th>treatment</th>\n",
       "      <td>0.118726</td>\n",
       "      <td>0.323467</td>\n",
       "    </tr>\n",
       "  </tbody>\n",
       "</table>\n",
       "</div>"
      ],
      "text/plain": [
       "           conversion_rate  std_deviation\n",
       "group                                    \n",
       "control           0.120173       0.325165\n",
       "treatment         0.118726       0.323467"
      ]
     },
     "execution_count": 74,
     "metadata": {},
     "output_type": "execute_result"
    }
   ],
   "source": [
    "conversion_rates = df_ok.groupby('group')['converted'].agg([np.mean, np.std])\n",
    "conversion_rates.columns = ['conversion_rate', 'std_deviation']\n",
    "conversion_rates"
   ]
  },
  {
   "cell_type": "markdown",
   "id": "dbe8be98",
   "metadata": {},
   "source": [
    "The control group shows us **12.01%** of conversion rate, slightyly better than the treatment group that shows us **11.87%** of conversion rate. But, A/B Testing will be performed for more accurate analysis."
   ]
  },
  {
   "cell_type": "markdown",
   "id": "124cfb0e",
   "metadata": {},
   "source": [
    "## A/B Testing I\n",
    "\n",
    "*(All Data)*"
   ]
  },
  {
   "cell_type": "markdown",
   "id": "15c28237",
   "metadata": {},
   "source": [
    "In this project, we will be performing two-tailed hypothesis testing with confidence interval of 95% ***(alpha treshold = 0.05)***.\n",
    "\n",
    "**The hypothesis will be formulated as follow :**\n",
    "\n",
    "H0 : Conversion rate of old design is equal to conversion rate of new design\n",
    "\n",
    "H1 : Conversion rate of old design is not equal to conversion rate of new design"
   ]
  },
  {
   "cell_type": "code",
   "execution_count": 32,
   "id": "1b28209a",
   "metadata": {},
   "outputs": [
    {
     "data": {
      "text/html": [
       "<div>\n",
       "<style scoped>\n",
       "    .dataframe tbody tr th:only-of-type {\n",
       "        vertical-align: middle;\n",
       "    }\n",
       "\n",
       "    .dataframe tbody tr th {\n",
       "        vertical-align: top;\n",
       "    }\n",
       "\n",
       "    .dataframe thead th {\n",
       "        text-align: right;\n",
       "    }\n",
       "</style>\n",
       "<table border=\"1\" class=\"dataframe\">\n",
       "  <thead>\n",
       "    <tr style=\"text-align: right;\">\n",
       "      <th></th>\n",
       "      <th>user_id</th>\n",
       "      <th>timestamp</th>\n",
       "      <th>group</th>\n",
       "      <th>landing_page</th>\n",
       "      <th>converted</th>\n",
       "    </tr>\n",
       "  </thead>\n",
       "  <tbody>\n",
       "    <tr>\n",
       "      <th>0</th>\n",
       "      <td>851104</td>\n",
       "      <td>2017-01-21 22:11:48.556739</td>\n",
       "      <td>control</td>\n",
       "      <td>old_page</td>\n",
       "      <td>0</td>\n",
       "    </tr>\n",
       "    <tr>\n",
       "      <th>1</th>\n",
       "      <td>804228</td>\n",
       "      <td>2017-01-12 08:01:45.159739</td>\n",
       "      <td>control</td>\n",
       "      <td>old_page</td>\n",
       "      <td>0</td>\n",
       "    </tr>\n",
       "    <tr>\n",
       "      <th>4</th>\n",
       "      <td>864975</td>\n",
       "      <td>2017-01-21 01:52:26.210827</td>\n",
       "      <td>control</td>\n",
       "      <td>old_page</td>\n",
       "      <td>1</td>\n",
       "    </tr>\n",
       "    <tr>\n",
       "      <th>5</th>\n",
       "      <td>936923</td>\n",
       "      <td>2017-01-10 15:20:49.083499</td>\n",
       "      <td>control</td>\n",
       "      <td>old_page</td>\n",
       "      <td>0</td>\n",
       "    </tr>\n",
       "    <tr>\n",
       "      <th>7</th>\n",
       "      <td>719014</td>\n",
       "      <td>2017-01-17 01:48:29.539573</td>\n",
       "      <td>control</td>\n",
       "      <td>old_page</td>\n",
       "      <td>0</td>\n",
       "    </tr>\n",
       "  </tbody>\n",
       "</table>\n",
       "</div>"
      ],
      "text/plain": [
       "   user_id                  timestamp    group landing_page  converted\n",
       "0   851104 2017-01-21 22:11:48.556739  control     old_page          0\n",
       "1   804228 2017-01-12 08:01:45.159739  control     old_page          0\n",
       "4   864975 2017-01-21 01:52:26.210827  control     old_page          1\n",
       "5   936923 2017-01-10 15:20:49.083499  control     old_page          0\n",
       "7   719014 2017-01-17 01:48:29.539573  control     old_page          0"
      ]
     },
     "execution_count": 32,
     "metadata": {},
     "output_type": "execute_result"
    }
   ],
   "source": [
    "df_control = df_ok.copy()\n",
    "df_control = df_control[df_control['group']=='control']\n",
    "df_control.head()"
   ]
  },
  {
   "cell_type": "code",
   "execution_count": 33,
   "id": "29d227b3",
   "metadata": {},
   "outputs": [
    {
     "data": {
      "text/html": [
       "<div>\n",
       "<style scoped>\n",
       "    .dataframe tbody tr th:only-of-type {\n",
       "        vertical-align: middle;\n",
       "    }\n",
       "\n",
       "    .dataframe tbody tr th {\n",
       "        vertical-align: top;\n",
       "    }\n",
       "\n",
       "    .dataframe thead th {\n",
       "        text-align: right;\n",
       "    }\n",
       "</style>\n",
       "<table border=\"1\" class=\"dataframe\">\n",
       "  <thead>\n",
       "    <tr style=\"text-align: right;\">\n",
       "      <th></th>\n",
       "      <th>user_id</th>\n",
       "      <th>timestamp</th>\n",
       "      <th>group</th>\n",
       "      <th>landing_page</th>\n",
       "      <th>converted</th>\n",
       "    </tr>\n",
       "  </thead>\n",
       "  <tbody>\n",
       "    <tr>\n",
       "      <th>2</th>\n",
       "      <td>661590</td>\n",
       "      <td>2017-01-11 16:55:06.154213</td>\n",
       "      <td>treatment</td>\n",
       "      <td>new_page</td>\n",
       "      <td>0</td>\n",
       "    </tr>\n",
       "    <tr>\n",
       "      <th>3</th>\n",
       "      <td>853541</td>\n",
       "      <td>2017-01-08 18:28:03.143765</td>\n",
       "      <td>treatment</td>\n",
       "      <td>new_page</td>\n",
       "      <td>0</td>\n",
       "    </tr>\n",
       "    <tr>\n",
       "      <th>6</th>\n",
       "      <td>679687</td>\n",
       "      <td>2017-01-19 03:26:46.940749</td>\n",
       "      <td>treatment</td>\n",
       "      <td>new_page</td>\n",
       "      <td>1</td>\n",
       "    </tr>\n",
       "    <tr>\n",
       "      <th>8</th>\n",
       "      <td>817355</td>\n",
       "      <td>2017-01-04 17:58:08.979471</td>\n",
       "      <td>treatment</td>\n",
       "      <td>new_page</td>\n",
       "      <td>1</td>\n",
       "    </tr>\n",
       "    <tr>\n",
       "      <th>9</th>\n",
       "      <td>839785</td>\n",
       "      <td>2017-01-15 18:11:06.610965</td>\n",
       "      <td>treatment</td>\n",
       "      <td>new_page</td>\n",
       "      <td>1</td>\n",
       "    </tr>\n",
       "  </tbody>\n",
       "</table>\n",
       "</div>"
      ],
      "text/plain": [
       "   user_id                  timestamp      group landing_page  converted\n",
       "2   661590 2017-01-11 16:55:06.154213  treatment     new_page          0\n",
       "3   853541 2017-01-08 18:28:03.143765  treatment     new_page          0\n",
       "6   679687 2017-01-19 03:26:46.940749  treatment     new_page          1\n",
       "8   817355 2017-01-04 17:58:08.979471  treatment     new_page          1\n",
       "9   839785 2017-01-15 18:11:06.610965  treatment     new_page          1"
      ]
     },
     "execution_count": 33,
     "metadata": {},
     "output_type": "execute_result"
    }
   ],
   "source": [
    "df_treatment = df_ok.copy()\n",
    "df_treatment = df_treatment[df_treatment['group']=='treatment']\n",
    "df_treatment.head()"
   ]
  },
  {
   "cell_type": "code",
   "execution_count": 88,
   "id": "cc65f648",
   "metadata": {},
   "outputs": [
    {
     "name": "stdout",
     "output_type": "stream",
     "text": [
      "z-score =  1.1944838871517816\n",
      "p-value =  0.23228873989686571\n",
      "\n",
      "P-value score (0.23) is bigger than alpha threshold (0.05), we don't have enough convidence to reject null hypothesis.\n"
     ]
    }
   ],
   "source": [
    "from statsmodels.stats.weightstats import ztest \n",
    "\n",
    "z_score, p_value = ztest(df_control['converted'],df_treatment['converted'])\n",
    "print('z-score = ',z_score)\n",
    "print('p-value = ',p_value)\n",
    "\n",
    "if p_value<0.05:\n",
    "    print('\\nP-value score ({}) is smaller than alpha threshold (0.05), we have enough evidence to reject null hypothesis.' .format(p_value.round(2)))\n",
    "else:\n",
    "    print('\\nP-value score ({}) is bigger than alpha threshold (0.05), we don\\'t have enough convidence to reject null hypothesis.' .format(p_value.round(2)))"
   ]
  },
  {
   "cell_type": "markdown",
   "id": "c5b71799",
   "metadata": {},
   "source": [
    "### **Result** \n",
    "\n",
    "We don't have enough convidence to reject null hypothesis, therefore we **accept null hypothesis**. \n",
    "\n",
    "\n",
    "### **Conclusion**\n",
    "\n",
    "The conversion rate of old design **is equal** to conversion rate of new design. So, new version of menu page **doesn't give better** conversion rate."
   ]
  },
  {
   "cell_type": "markdown",
   "id": "400b2304",
   "metadata": {},
   "source": [
    "## A/B Testing II\n",
    "\n",
    "*(Subset of Data)*"
   ]
  },
  {
   "cell_type": "markdown",
   "id": "59cd2e37",
   "metadata": {},
   "source": [
    "Before conduct A/B Testing, we need to determine required sample size, and it is based on three factors :\n",
    "\n",
    "1. Power of the test\n",
    "\n",
    "    In this case, the power of test will be set at **0.9**.\n",
    "        \n",
    "2. Confidence Level \n",
    "    \n",
    "    In this case, the confidence level will be set at 95% with **alpha threshold = 0.05**.\n",
    "\n",
    "3. Minimum Detectable Effect\n",
    "\n",
    "    In this case, the Minimum Detectable Effect (MDE) will be set at **3%** *(from 12% to 15%)*."
   ]
  },
  {
   "cell_type": "code",
   "execution_count": 76,
   "id": "6be271f2",
   "metadata": {},
   "outputs": [
    {
     "name": "stdout",
     "output_type": "stream",
     "text": [
      "2719\n"
     ]
    }
   ],
   "source": [
    "# calculating number of required sample size\n",
    "\n",
    "effect = sms.proportion_effectsize(0.12, 0.15)\n",
    "\n",
    "required_n = sms.NormalIndPower().solve_power(effect, power=0.9, alpha=0.05, ratio=1.0, alternative='two-sided')\n",
    "\n",
    "required_n = math.ceil(required_n)\n",
    "\n",
    "print(required_n)"
   ]
  },
  {
   "cell_type": "markdown",
   "id": "09fa45a7",
   "metadata": {},
   "source": [
    "Therefore, we need **2,719 users in control** group and **2,719 users in treatment** group."
   ]
  },
  {
   "cell_type": "code",
   "execution_count": 77,
   "id": "3d869f17",
   "metadata": {},
   "outputs": [],
   "source": [
    "# random sampling from each group\n",
    "control_group = df_control.sample(required_n)\n",
    "treatment_group = df_treatment.sample(required_n)"
   ]
  },
  {
   "cell_type": "code",
   "execution_count": 78,
   "id": "adb6d8b7",
   "metadata": {},
   "outputs": [
    {
     "data": {
      "text/html": [
       "<div>\n",
       "<style scoped>\n",
       "    .dataframe tbody tr th:only-of-type {\n",
       "        vertical-align: middle;\n",
       "    }\n",
       "\n",
       "    .dataframe tbody tr th {\n",
       "        vertical-align: top;\n",
       "    }\n",
       "\n",
       "    .dataframe thead th {\n",
       "        text-align: right;\n",
       "    }\n",
       "</style>\n",
       "<table border=\"1\" class=\"dataframe\">\n",
       "  <thead>\n",
       "    <tr style=\"text-align: right;\">\n",
       "      <th></th>\n",
       "      <th>user_id</th>\n",
       "      <th>timestamp</th>\n",
       "      <th>group</th>\n",
       "      <th>landing_page</th>\n",
       "      <th>converted</th>\n",
       "    </tr>\n",
       "  </thead>\n",
       "  <tbody>\n",
       "    <tr>\n",
       "      <th>0</th>\n",
       "      <td>736643</td>\n",
       "      <td>2017-01-13 13:59:26.556885</td>\n",
       "      <td>control</td>\n",
       "      <td>old_page</td>\n",
       "      <td>0</td>\n",
       "    </tr>\n",
       "    <tr>\n",
       "      <th>1</th>\n",
       "      <td>789360</td>\n",
       "      <td>2017-01-23 02:53:00.020047</td>\n",
       "      <td>control</td>\n",
       "      <td>old_page</td>\n",
       "      <td>0</td>\n",
       "    </tr>\n",
       "    <tr>\n",
       "      <th>2</th>\n",
       "      <td>880124</td>\n",
       "      <td>2017-01-05 03:37:13.045054</td>\n",
       "      <td>control</td>\n",
       "      <td>old_page</td>\n",
       "      <td>0</td>\n",
       "    </tr>\n",
       "    <tr>\n",
       "      <th>3</th>\n",
       "      <td>844777</td>\n",
       "      <td>2017-01-14 06:19:00.651555</td>\n",
       "      <td>control</td>\n",
       "      <td>old_page</td>\n",
       "      <td>1</td>\n",
       "    </tr>\n",
       "    <tr>\n",
       "      <th>4</th>\n",
       "      <td>787648</td>\n",
       "      <td>2017-01-20 23:26:23.939550</td>\n",
       "      <td>control</td>\n",
       "      <td>old_page</td>\n",
       "      <td>0</td>\n",
       "    </tr>\n",
       "    <tr>\n",
       "      <th>...</th>\n",
       "      <td>...</td>\n",
       "      <td>...</td>\n",
       "      <td>...</td>\n",
       "      <td>...</td>\n",
       "      <td>...</td>\n",
       "    </tr>\n",
       "    <tr>\n",
       "      <th>5433</th>\n",
       "      <td>697508</td>\n",
       "      <td>2017-01-03 22:10:45.687247</td>\n",
       "      <td>treatment</td>\n",
       "      <td>new_page</td>\n",
       "      <td>0</td>\n",
       "    </tr>\n",
       "    <tr>\n",
       "      <th>5434</th>\n",
       "      <td>756177</td>\n",
       "      <td>2017-01-05 04:17:29.146658</td>\n",
       "      <td>treatment</td>\n",
       "      <td>new_page</td>\n",
       "      <td>0</td>\n",
       "    </tr>\n",
       "    <tr>\n",
       "      <th>5435</th>\n",
       "      <td>919299</td>\n",
       "      <td>2017-01-03 03:48:57.050255</td>\n",
       "      <td>treatment</td>\n",
       "      <td>new_page</td>\n",
       "      <td>0</td>\n",
       "    </tr>\n",
       "    <tr>\n",
       "      <th>5436</th>\n",
       "      <td>911399</td>\n",
       "      <td>2017-01-08 08:15:17.077084</td>\n",
       "      <td>treatment</td>\n",
       "      <td>new_page</td>\n",
       "      <td>0</td>\n",
       "    </tr>\n",
       "    <tr>\n",
       "      <th>5437</th>\n",
       "      <td>936279</td>\n",
       "      <td>2017-01-11 01:56:03.734917</td>\n",
       "      <td>treatment</td>\n",
       "      <td>new_page</td>\n",
       "      <td>0</td>\n",
       "    </tr>\n",
       "  </tbody>\n",
       "</table>\n",
       "<p>5438 rows × 5 columns</p>\n",
       "</div>"
      ],
      "text/plain": [
       "      user_id                  timestamp      group landing_page  converted\n",
       "0      736643 2017-01-13 13:59:26.556885    control     old_page          0\n",
       "1      789360 2017-01-23 02:53:00.020047    control     old_page          0\n",
       "2      880124 2017-01-05 03:37:13.045054    control     old_page          0\n",
       "3      844777 2017-01-14 06:19:00.651555    control     old_page          1\n",
       "4      787648 2017-01-20 23:26:23.939550    control     old_page          0\n",
       "...       ...                        ...        ...          ...        ...\n",
       "5433   697508 2017-01-03 22:10:45.687247  treatment     new_page          0\n",
       "5434   756177 2017-01-05 04:17:29.146658  treatment     new_page          0\n",
       "5435   919299 2017-01-03 03:48:57.050255  treatment     new_page          0\n",
       "5436   911399 2017-01-08 08:15:17.077084  treatment     new_page          0\n",
       "5437   936279 2017-01-11 01:56:03.734917  treatment     new_page          0\n",
       "\n",
       "[5438 rows x 5 columns]"
      ]
     },
     "execution_count": 78,
     "metadata": {},
     "output_type": "execute_result"
    }
   ],
   "source": [
    "# combine both groups\n",
    "ab_test = pd.concat([control_group, treatment_group], axis=0)\n",
    "ab_test.reset_index(inplace=True, drop=True)\n",
    "ab_test"
   ]
  },
  {
   "cell_type": "code",
   "execution_count": 79,
   "id": "8c7fca2b",
   "metadata": {},
   "outputs": [
    {
     "data": {
      "text/html": [
       "<div>\n",
       "<style scoped>\n",
       "    .dataframe tbody tr th:only-of-type {\n",
       "        vertical-align: middle;\n",
       "    }\n",
       "\n",
       "    .dataframe tbody tr th {\n",
       "        vertical-align: top;\n",
       "    }\n",
       "\n",
       "    .dataframe thead th {\n",
       "        text-align: right;\n",
       "    }\n",
       "</style>\n",
       "<table border=\"1\" class=\"dataframe\">\n",
       "  <thead>\n",
       "    <tr style=\"text-align: right;\">\n",
       "      <th></th>\n",
       "      <th>user_id</th>\n",
       "      <th>timestamp</th>\n",
       "      <th>group</th>\n",
       "      <th>landing_page</th>\n",
       "      <th>converted</th>\n",
       "    </tr>\n",
       "  </thead>\n",
       "  <tbody>\n",
       "    <tr>\n",
       "      <th>93541</th>\n",
       "      <td>736643</td>\n",
       "      <td>2017-01-13 13:59:26.556885</td>\n",
       "      <td>control</td>\n",
       "      <td>old_page</td>\n",
       "      <td>0</td>\n",
       "    </tr>\n",
       "    <tr>\n",
       "      <th>185842</th>\n",
       "      <td>789360</td>\n",
       "      <td>2017-01-23 02:53:00.020047</td>\n",
       "      <td>control</td>\n",
       "      <td>old_page</td>\n",
       "      <td>0</td>\n",
       "    </tr>\n",
       "    <tr>\n",
       "      <th>57535</th>\n",
       "      <td>880124</td>\n",
       "      <td>2017-01-05 03:37:13.045054</td>\n",
       "      <td>control</td>\n",
       "      <td>old_page</td>\n",
       "      <td>0</td>\n",
       "    </tr>\n",
       "    <tr>\n",
       "      <th>66757</th>\n",
       "      <td>844777</td>\n",
       "      <td>2017-01-14 06:19:00.651555</td>\n",
       "      <td>control</td>\n",
       "      <td>old_page</td>\n",
       "      <td>1</td>\n",
       "    </tr>\n",
       "    <tr>\n",
       "      <th>15306</th>\n",
       "      <td>787648</td>\n",
       "      <td>2017-01-20 23:26:23.939550</td>\n",
       "      <td>control</td>\n",
       "      <td>old_page</td>\n",
       "      <td>0</td>\n",
       "    </tr>\n",
       "  </tbody>\n",
       "</table>\n",
       "</div>"
      ],
      "text/plain": [
       "        user_id                  timestamp    group landing_page  converted\n",
       "93541    736643 2017-01-13 13:59:26.556885  control     old_page          0\n",
       "185842   789360 2017-01-23 02:53:00.020047  control     old_page          0\n",
       "57535    880124 2017-01-05 03:37:13.045054  control     old_page          0\n",
       "66757    844777 2017-01-14 06:19:00.651555  control     old_page          1\n",
       "15306    787648 2017-01-20 23:26:23.939550  control     old_page          0"
      ]
     },
     "execution_count": 79,
     "metadata": {},
     "output_type": "execute_result"
    }
   ],
   "source": [
    "# checking sample of control group\n",
    "control_group.head()"
   ]
  },
  {
   "cell_type": "code",
   "execution_count": 80,
   "id": "ce06d69b",
   "metadata": {},
   "outputs": [
    {
     "data": {
      "text/html": [
       "<div>\n",
       "<style scoped>\n",
       "    .dataframe tbody tr th:only-of-type {\n",
       "        vertical-align: middle;\n",
       "    }\n",
       "\n",
       "    .dataframe tbody tr th {\n",
       "        vertical-align: top;\n",
       "    }\n",
       "\n",
       "    .dataframe thead th {\n",
       "        text-align: right;\n",
       "    }\n",
       "</style>\n",
       "<table border=\"1\" class=\"dataframe\">\n",
       "  <thead>\n",
       "    <tr style=\"text-align: right;\">\n",
       "      <th></th>\n",
       "      <th>user_id</th>\n",
       "      <th>timestamp</th>\n",
       "      <th>group</th>\n",
       "      <th>landing_page</th>\n",
       "      <th>converted</th>\n",
       "    </tr>\n",
       "  </thead>\n",
       "  <tbody>\n",
       "    <tr>\n",
       "      <th>134249</th>\n",
       "      <td>913887</td>\n",
       "      <td>2017-01-14 04:20:24.688326</td>\n",
       "      <td>treatment</td>\n",
       "      <td>new_page</td>\n",
       "      <td>0</td>\n",
       "    </tr>\n",
       "    <tr>\n",
       "      <th>203794</th>\n",
       "      <td>705189</td>\n",
       "      <td>2017-01-05 15:04:47.961205</td>\n",
       "      <td>treatment</td>\n",
       "      <td>new_page</td>\n",
       "      <td>0</td>\n",
       "    </tr>\n",
       "    <tr>\n",
       "      <th>65430</th>\n",
       "      <td>928412</td>\n",
       "      <td>2017-01-22 12:48:15.453736</td>\n",
       "      <td>treatment</td>\n",
       "      <td>new_page</td>\n",
       "      <td>1</td>\n",
       "    </tr>\n",
       "    <tr>\n",
       "      <th>45921</th>\n",
       "      <td>854983</td>\n",
       "      <td>2017-01-13 22:25:09.098897</td>\n",
       "      <td>treatment</td>\n",
       "      <td>new_page</td>\n",
       "      <td>0</td>\n",
       "    </tr>\n",
       "    <tr>\n",
       "      <th>140247</th>\n",
       "      <td>655154</td>\n",
       "      <td>2017-01-11 06:39:26.030199</td>\n",
       "      <td>treatment</td>\n",
       "      <td>new_page</td>\n",
       "      <td>0</td>\n",
       "    </tr>\n",
       "  </tbody>\n",
       "</table>\n",
       "</div>"
      ],
      "text/plain": [
       "        user_id                  timestamp      group landing_page  converted\n",
       "134249   913887 2017-01-14 04:20:24.688326  treatment     new_page          0\n",
       "203794   705189 2017-01-05 15:04:47.961205  treatment     new_page          0\n",
       "65430    928412 2017-01-22 12:48:15.453736  treatment     new_page          1\n",
       "45921    854983 2017-01-13 22:25:09.098897  treatment     new_page          0\n",
       "140247   655154 2017-01-11 06:39:26.030199  treatment     new_page          0"
      ]
     },
     "execution_count": 80,
     "metadata": {},
     "output_type": "execute_result"
    }
   ],
   "source": [
    "# checking sample of treatment group\n",
    "treatment_group.head()"
   ]
  },
  {
   "cell_type": "code",
   "execution_count": 81,
   "id": "6b69e00a",
   "metadata": {},
   "outputs": [
    {
     "data": {
      "text/html": [
       "<div>\n",
       "<style scoped>\n",
       "    .dataframe tbody tr th:only-of-type {\n",
       "        vertical-align: middle;\n",
       "    }\n",
       "\n",
       "    .dataframe tbody tr th {\n",
       "        vertical-align: top;\n",
       "    }\n",
       "\n",
       "    .dataframe thead th {\n",
       "        text-align: right;\n",
       "    }\n",
       "</style>\n",
       "<table border=\"1\" class=\"dataframe\">\n",
       "  <thead>\n",
       "    <tr style=\"text-align: right;\">\n",
       "      <th></th>\n",
       "      <th>N_Control</th>\n",
       "      <th>N_Treatment</th>\n",
       "      <th>ratio_Control</th>\n",
       "      <th>ratio_Treatment</th>\n",
       "    </tr>\n",
       "  </thead>\n",
       "  <tbody>\n",
       "    <tr>\n",
       "      <th>0</th>\n",
       "      <td>2400</td>\n",
       "      <td>2401</td>\n",
       "      <td>0.882677</td>\n",
       "      <td>0.883045</td>\n",
       "    </tr>\n",
       "    <tr>\n",
       "      <th>1</th>\n",
       "      <td>319</td>\n",
       "      <td>318</td>\n",
       "      <td>0.117323</td>\n",
       "      <td>0.116955</td>\n",
       "    </tr>\n",
       "  </tbody>\n",
       "</table>\n",
       "</div>"
      ],
      "text/plain": [
       "   N_Control  N_Treatment  ratio_Control  ratio_Treatment\n",
       "0       2400         2401       0.882677         0.883045\n",
       "1        319          318       0.117323         0.116955"
      ]
     },
     "execution_count": 81,
     "metadata": {},
     "output_type": "execute_result"
    }
   ],
   "source": [
    "df_test = pd.DataFrame({'N_Control': control_group.converted.value_counts(),\n",
    "                       'N_Treatment': treatment_group.converted.value_counts(),\n",
    "                       'ratio_Control': control_group.converted.value_counts()/len(control_group),\n",
    "                       'ratio_Treatment': treatment_group.converted.value_counts()/len(treatment_group)})\n",
    "df_test"
   ]
  },
  {
   "cell_type": "code",
   "execution_count": 89,
   "id": "96fb7202",
   "metadata": {},
   "outputs": [
    {
     "data": {
      "image/png": "[encoded data removed]",
      "text/plain": [
       "<Figure size 1080x432 with 2 Axes>"
      ]
     },
     "metadata": {
      "needs_background": "light"
     },
     "output_type": "display_data"
    }
   ],
   "source": [
    "fig, axes = plt.subplots(1,2)\n",
    "\n",
    "sns.countplot(x='group', data=ab_test, ax=axes[0])\n",
    "axes[0].set(title=\"Total Users for Each Group\", ylabel='Count')\n",
    "\n",
    "sns.countplot(x='converted', data=ab_test, ax=axes[1], hue='group')\n",
    "axes[1].set(title='Number Conversion for Each Group', ylabel='Count')\n",
    "fig.set_size_inches(15, 6)"
   ]
  },
  {
   "cell_type": "markdown",
   "id": "7ee5a796",
   "metadata": {},
   "source": [
    "Based on the graph above, total users for each group in this experiment are balanced enough."
   ]
  },
  {
   "cell_type": "code",
   "execution_count": 90,
   "id": "b9b738e1",
   "metadata": {},
   "outputs": [
    {
     "data": {
      "text/html": [
       "<div>\n",
       "<style scoped>\n",
       "    .dataframe tbody tr th:only-of-type {\n",
       "        vertical-align: middle;\n",
       "    }\n",
       "\n",
       "    .dataframe tbody tr th {\n",
       "        vertical-align: top;\n",
       "    }\n",
       "\n",
       "    .dataframe thead th {\n",
       "        text-align: right;\n",
       "    }\n",
       "</style>\n",
       "<table border=\"1\" class=\"dataframe\">\n",
       "  <thead>\n",
       "    <tr style=\"text-align: right;\">\n",
       "      <th></th>\n",
       "      <th>conversion_rate</th>\n",
       "      <th>std_deviation</th>\n",
       "    </tr>\n",
       "    <tr>\n",
       "      <th>group</th>\n",
       "      <th></th>\n",
       "      <th></th>\n",
       "    </tr>\n",
       "  </thead>\n",
       "  <tbody>\n",
       "    <tr>\n",
       "      <th>control</th>\n",
       "      <td>0.117323</td>\n",
       "      <td>0.321863</td>\n",
       "    </tr>\n",
       "    <tr>\n",
       "      <th>treatment</th>\n",
       "      <td>0.116955</td>\n",
       "      <td>0.321425</td>\n",
       "    </tr>\n",
       "  </tbody>\n",
       "</table>\n",
       "</div>"
      ],
      "text/plain": [
       "           conversion_rate  std_deviation\n",
       "group                                    \n",
       "control           0.117323       0.321863\n",
       "treatment         0.116955       0.321425"
      ]
     },
     "execution_count": 90,
     "metadata": {},
     "output_type": "execute_result"
    }
   ],
   "source": [
    "conversion_rates = ab_test.groupby('group')['converted'].agg([np.mean, np.std])\n",
    "conversion_rates.columns = ['conversion_rate', 'std_deviation']\n",
    "conversion_rates"
   ]
  },
  {
   "cell_type": "markdown",
   "id": "e93b37c7",
   "metadata": {},
   "source": [
    "In this project, we will be performing two-tailed hypothesis testing with confidence interval of 95% ***(alpha treshold = 0.05)***.\n",
    "\n",
    "**The hypothesis will be formulated as follow :**\n",
    "\n",
    "H0 : Conversion rate of old design is equal to conversion rate of new design\n",
    "\n",
    "H1 : Conversion rate of old design is not equal to conversion rate of new design"
   ]
  },
  {
   "cell_type": "code",
   "execution_count": 91,
   "id": "8c984d58",
   "metadata": {},
   "outputs": [
    {
     "name": "stdout",
     "output_type": "stream",
     "text": [
      "z-score =  0.04216035177716724\n",
      "p-value =  0.9663708691374466\n",
      "\n",
      "P-value score (0.97) is bigger than alpha threshold (0.05), we don't have enough convidence to reject null hypothesis.\n"
     ]
    }
   ],
   "source": [
    "from statsmodels.stats.weightstats import ztest \n",
    "\n",
    "z_score, p_value = ztest(control_group['converted'],treatment_group['converted'])\n",
    "print('z-score = ',z_score)\n",
    "print('p-value = ',p_value)\n",
    "\n",
    "if p_value<0.05:\n",
    "    print('\\nP-value score ({}) is smaller than alpha threshold (0.05), we have enough evidence to reject null hypothesis.' .format(p_value.round(2)))\n",
    "else:\n",
    "    print('\\nP-value score ({}) is bigger than alpha threshold (0.05), we don\\'t have enough convidence to reject null hypothesis.' .format(p_value.round(2)))"
   ]
  },
  {
   "cell_type": "markdown",
   "id": "ff38d467",
   "metadata": {},
   "source": [
    "### **Result** \n",
    "\n",
    "We don't have enough convidence to reject null hypothesis, therefore we **accept null hypothesis**. \n",
    "\n",
    "\n",
    "### **Conclusion**\n",
    "\n",
    "The conversion rate of old design **is equal** to conversion rate of new design. So, new version of menu page **doesn't give better** conversion rate."
   ]
  }
 ],
 "metadata": {
  "kernelspec": {
   "display_name": "Python 3 (ipykernel)",
   "language": "python",
   "name": "python3"
  },
  "language_info": {
   "codemirror_mode": {
    "name": "ipython",
    "version": 3
   },
   "file_extension": ".py",
   "mimetype": "text/x-python",
   "name": "python",
   "nbconvert_exporter": "python",
   "pygments_lexer": "ipython3",
   "version": "3.9.12"
  }
 },
 "nbformat": 4,
 "nbformat_minor": 5
}
