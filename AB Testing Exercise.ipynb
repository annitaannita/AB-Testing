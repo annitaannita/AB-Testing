{
 "cells": [
  {
   "cell_type": "markdown",
   "id": "1d9c5403",
   "metadata": {},
   "source": [
    "# A/B Testing on E-commerce\n",
    "\n",
    "*(Personal Projects for Learning Purpose)*"
   ]
  },
  {
   "cell_type": "markdown",
   "id": "57d4402b",
   "metadata": {},
   "source": [
    "## Project Intro"
   ]
  },
  {
   "cell_type": "markdown",
   "id": "cbce9c66",
   "metadata": {},
   "source": [
    "**Background**\n",
    "\n",
    "An e-commerce would like to launch a new version of menu page from the website, so the Product Manager asked to do an experiment with the hope that the new version of menu page will lead to a higher conversion rate. Let's assume that the conversion rate in this e-commerce was 12%, and the Product Manager would like to increase conversion rate to 15%.\n",
    "\n"
   ]
  },
  {
   "cell_type": "markdown",
   "id": "51fd7e80",
   "metadata": {},
   "source": [
    "**Dataset**\n",
    "\n",
    "The dataset was taken from <a href= \"https://www.kaggle.com/datasets/zhangluyuan/ab-testing\">Kaggle</a> and consists of `user ID`, `timestamp`, `control/treatment group`, `type of landing page`, and whether the user `converted` or not."
   ]
  },
  {
   "cell_type": "markdown",
   "id": "01e78ad2",
   "metadata": {},
   "source": [
    "**Project Purpose**\n",
    "\n",
    "The purpose was to help the Product Manager in deciding which menu page is giving better conversion rate."
   ]
  },
  {
   "cell_type": "markdown",
   "id": "917a5b49",
   "metadata": {},
   "source": [
    "## Data Preparation"
   ]
  },
  {
   "cell_type": "markdown",
   "id": "78a41723",
   "metadata": {},
   "source": [
    "### Import Library and Dataset"
   ]
  },
  {
   "cell_type": "code",
   "execution_count": 1,
   "id": "eb7bc6a0",
   "metadata": {},
   "outputs": [],
   "source": [
    "# import library\n",
    "import pandas as pd\n",
    "import numpy as np\n",
    "import seaborn as sns\n",
    "import statsmodels.stats.api as sms\n",
    "import matplotlib.pyplot as plt\n",
    "import math"
   ]
  },
  {
   "cell_type": "code",
   "execution_count": 2,
   "id": "a393d39e",
   "metadata": {},
   "outputs": [],
   "source": [
    "# import file csv \n",
    "ori_data = pd.read_csv(r'E:\\Learn Data\\Projects\\ab_ecommerce.csv')"
   ]
  },
  {
   "cell_type": "markdown",
   "id": "212d1fab",
   "metadata": {},
   "source": [
    "### Cleaning Data"
   ]
  },
  {
   "cell_type": "code",
   "execution_count": 3,
   "id": "ebb8da4e",
   "metadata": {},
   "outputs": [
    {
     "data": {
      "text/html": [
       "<div>\n",
       "<style scoped>\n",
       "    .dataframe tbody tr th:only-of-type {\n",
       "        vertical-align: middle;\n",
       "    }\n",
       "\n",
       "    .dataframe tbody tr th {\n",
       "        vertical-align: top;\n",
       "    }\n",
       "\n",
       "    .dataframe thead th {\n",
       "        text-align: right;\n",
       "    }\n",
       "</style>\n",
       "<table border=\"1\" class=\"dataframe\">\n",
       "  <thead>\n",
       "    <tr style=\"text-align: right;\">\n",
       "      <th></th>\n",
       "      <th>user_id</th>\n",
       "      <th>timestamp</th>\n",
       "      <th>group</th>\n",
       "      <th>landing_page</th>\n",
       "      <th>converted</th>\n",
       "    </tr>\n",
       "  </thead>\n",
       "  <tbody>\n",
       "    <tr>\n",
       "      <th>0</th>\n",
       "      <td>851104</td>\n",
       "      <td>2017-01-21 22:11:48.556739</td>\n",
       "      <td>control</td>\n",
       "      <td>old_page</td>\n",
       "      <td>0</td>\n",
       "    </tr>\n",
       "    <tr>\n",
       "      <th>1</th>\n",
       "      <td>804228</td>\n",
       "      <td>2017-01-12 08:01:45.159739</td>\n",
       "      <td>control</td>\n",
       "      <td>old_page</td>\n",
       "      <td>0</td>\n",
       "    </tr>\n",
       "    <tr>\n",
       "      <th>2</th>\n",
       "      <td>661590</td>\n",
       "      <td>2017-01-11 16:55:06.154213</td>\n",
       "      <td>treatment</td>\n",
       "      <td>new_page</td>\n",
       "      <td>0</td>\n",
       "    </tr>\n",
       "    <tr>\n",
       "      <th>3</th>\n",
       "      <td>853541</td>\n",
       "      <td>2017-01-08 18:28:03.143765</td>\n",
       "      <td>treatment</td>\n",
       "      <td>new_page</td>\n",
       "      <td>0</td>\n",
       "    </tr>\n",
       "    <tr>\n",
       "      <th>4</th>\n",
       "      <td>864975</td>\n",
       "      <td>2017-01-21 01:52:26.210827</td>\n",
       "      <td>control</td>\n",
       "      <td>old_page</td>\n",
       "      <td>1</td>\n",
       "    </tr>\n",
       "  </tbody>\n",
       "</table>\n",
       "</div>"
      ],
      "text/plain": [
       "   user_id                   timestamp      group landing_page  converted\n",
       "0   851104  2017-01-21 22:11:48.556739    control     old_page          0\n",
       "1   804228  2017-01-12 08:01:45.159739    control     old_page          0\n",
       "2   661590  2017-01-11 16:55:06.154213  treatment     new_page          0\n",
       "3   853541  2017-01-08 18:28:03.143765  treatment     new_page          0\n",
       "4   864975  2017-01-21 01:52:26.210827    control     old_page          1"
      ]
     },
     "execution_count": 3,
     "metadata": {},
     "output_type": "execute_result"
    }
   ],
   "source": [
    "# checking dataframe\n",
    "ori_data.head()"
   ]
  },
  {
   "cell_type": "code",
   "execution_count": 4,
   "id": "80c2f6e4",
   "metadata": {},
   "outputs": [
    {
     "name": "stdout",
     "output_type": "stream",
     "text": [
      "<class 'pandas.core.frame.DataFrame'>\n",
      "RangeIndex: 294478 entries, 0 to 294477\n",
      "Data columns (total 5 columns):\n",
      " #   Column        Non-Null Count   Dtype \n",
      "---  ------        --------------   ----- \n",
      " 0   user_id       294478 non-null  int64 \n",
      " 1   timestamp     294478 non-null  object\n",
      " 2   group         294478 non-null  object\n",
      " 3   landing_page  294478 non-null  object\n",
      " 4   converted     294478 non-null  int64 \n",
      "dtypes: int64(2), object(3)\n",
      "memory usage: 11.2+ MB\n"
     ]
    }
   ],
   "source": [
    "# checking data type\n",
    "ori_data.info()"
   ]
  },
  {
   "cell_type": "code",
   "execution_count": 5,
   "id": "6e4314f7",
   "metadata": {},
   "outputs": [],
   "source": [
    "df_type = ori_data.copy()"
   ]
  },
  {
   "cell_type": "markdown",
   "id": "cb5e66a4",
   "metadata": {},
   "source": [
    "Change `timestamp` column data type from `object` into `datetime64`."
   ]
  },
  {
   "cell_type": "code",
   "execution_count": 6,
   "id": "88616e60",
   "metadata": {},
   "outputs": [],
   "source": [
    "# changing data type\n",
    "df_type['timestamp']= pd.to_datetime(df_type['timestamp'])"
   ]
  },
  {
   "cell_type": "code",
   "execution_count": 7,
   "id": "0ac28de7",
   "metadata": {},
   "outputs": [
    {
     "name": "stdout",
     "output_type": "stream",
     "text": [
      "<class 'pandas.core.frame.DataFrame'>\n",
      "RangeIndex: 294478 entries, 0 to 294477\n",
      "Data columns (total 5 columns):\n",
      " #   Column        Non-Null Count   Dtype         \n",
      "---  ------        --------------   -----         \n",
      " 0   user_id       294478 non-null  int64         \n",
      " 1   timestamp     294478 non-null  datetime64[ns]\n",
      " 2   group         294478 non-null  object        \n",
      " 3   landing_page  294478 non-null  object        \n",
      " 4   converted     294478 non-null  int64         \n",
      "dtypes: datetime64[ns](1), int64(2), object(2)\n",
      "memory usage: 11.2+ MB\n"
     ]
    }
   ],
   "source": [
    "# checking data type again\n",
    "df_type.info()"
   ]
  },
  {
   "cell_type": "code",
   "execution_count": 8,
   "id": "a4e73444",
   "metadata": {},
   "outputs": [
    {
     "data": {
      "text/plain": [
       "(294478, 5)"
      ]
     },
     "execution_count": 8,
     "metadata": {},
     "output_type": "execute_result"
    }
   ],
   "source": [
    "# checking data shape\n",
    "df_type.shape"
   ]
  },
  {
   "cell_type": "code",
   "execution_count": 9,
   "id": "a7fd11d8",
   "metadata": {},
   "outputs": [],
   "source": [
    "df_dup = df_type.copy()"
   ]
  },
  {
   "cell_type": "code",
   "execution_count": 10,
   "id": "cf012d2c",
   "metadata": {},
   "outputs": [
    {
     "data": {
      "text/html": [
       "<div>\n",
       "<style scoped>\n",
       "    .dataframe tbody tr th:only-of-type {\n",
       "        vertical-align: middle;\n",
       "    }\n",
       "\n",
       "    .dataframe tbody tr th {\n",
       "        vertical-align: top;\n",
       "    }\n",
       "\n",
       "    .dataframe thead th {\n",
       "        text-align: right;\n",
       "    }\n",
       "</style>\n",
       "<table border=\"1\" class=\"dataframe\">\n",
       "  <thead>\n",
       "    <tr style=\"text-align: right;\">\n",
       "      <th></th>\n",
       "      <th>user_id</th>\n",
       "      <th>timestamp</th>\n",
       "      <th>group</th>\n",
       "      <th>landing_page</th>\n",
       "      <th>converted</th>\n",
       "    </tr>\n",
       "  </thead>\n",
       "  <tbody>\n",
       "  </tbody>\n",
       "</table>\n",
       "</div>"
      ],
      "text/plain": [
       "Empty DataFrame\n",
       "Columns: [user_id, timestamp, group, landing_page, converted]\n",
       "Index: []"
      ]
     },
     "execution_count": 10,
     "metadata": {},
     "output_type": "execute_result"
    }
   ],
   "source": [
    "# checking duplicated data\n",
    "df_dup[df_dup.duplicated()]"
   ]
  },
  {
   "cell_type": "code",
   "execution_count": 11,
   "id": "3b02416d",
   "metadata": {},
   "outputs": [
    {
     "data": {
      "text/plain": [
       "user_id         290584\n",
       "timestamp       294478\n",
       "group                2\n",
       "landing_page         2\n",
       "converted            2\n",
       "dtype: int64"
      ]
     },
     "execution_count": 11,
     "metadata": {},
     "output_type": "execute_result"
    }
   ],
   "source": [
    "df_dup.nunique()"
   ]
  },
  {
   "cell_type": "markdown",
   "id": "bb16c002",
   "metadata": {},
   "source": [
    "There are users who see more than one menu page in different time. Therefore, we need to remove them."
   ]
  },
  {
   "cell_type": "code",
   "execution_count": 12,
   "id": "216602a2",
   "metadata": {},
   "outputs": [
    {
     "data": {
      "text/html": [
       "<div>\n",
       "<style scoped>\n",
       "    .dataframe tbody tr th:only-of-type {\n",
       "        vertical-align: middle;\n",
       "    }\n",
       "\n",
       "    .dataframe tbody tr th {\n",
       "        vertical-align: top;\n",
       "    }\n",
       "\n",
       "    .dataframe thead th {\n",
       "        text-align: right;\n",
       "    }\n",
       "</style>\n",
       "<table border=\"1\" class=\"dataframe\">\n",
       "  <thead>\n",
       "    <tr style=\"text-align: right;\">\n",
       "      <th></th>\n",
       "      <th>user_id</th>\n",
       "      <th>timestamp</th>\n",
       "      <th>group</th>\n",
       "      <th>landing_page</th>\n",
       "      <th>converted</th>\n",
       "    </tr>\n",
       "  </thead>\n",
       "  <tbody>\n",
       "    <tr>\n",
       "      <th>2656</th>\n",
       "      <td>698120</td>\n",
       "      <td>2017-01-15 17:13:42.602796</td>\n",
       "      <td>control</td>\n",
       "      <td>old_page</td>\n",
       "      <td>0</td>\n",
       "    </tr>\n",
       "    <tr>\n",
       "      <th>2893</th>\n",
       "      <td>773192</td>\n",
       "      <td>2017-01-14 02:55:59.590927</td>\n",
       "      <td>treatment</td>\n",
       "      <td>new_page</td>\n",
       "      <td>0</td>\n",
       "    </tr>\n",
       "    <tr>\n",
       "      <th>7500</th>\n",
       "      <td>899953</td>\n",
       "      <td>2017-01-07 03:06:54.068237</td>\n",
       "      <td>control</td>\n",
       "      <td>new_page</td>\n",
       "      <td>0</td>\n",
       "    </tr>\n",
       "    <tr>\n",
       "      <th>8036</th>\n",
       "      <td>790934</td>\n",
       "      <td>2017-01-19 08:32:20.329057</td>\n",
       "      <td>treatment</td>\n",
       "      <td>new_page</td>\n",
       "      <td>0</td>\n",
       "    </tr>\n",
       "    <tr>\n",
       "      <th>10218</th>\n",
       "      <td>633793</td>\n",
       "      <td>2017-01-17 00:16:00.746561</td>\n",
       "      <td>treatment</td>\n",
       "      <td>old_page</td>\n",
       "      <td>0</td>\n",
       "    </tr>\n",
       "    <tr>\n",
       "      <th>...</th>\n",
       "      <td>...</td>\n",
       "      <td>...</td>\n",
       "      <td>...</td>\n",
       "      <td>...</td>\n",
       "      <td>...</td>\n",
       "    </tr>\n",
       "    <tr>\n",
       "      <th>294308</th>\n",
       "      <td>905197</td>\n",
       "      <td>2017-01-03 06:56:47.488231</td>\n",
       "      <td>treatment</td>\n",
       "      <td>new_page</td>\n",
       "      <td>0</td>\n",
       "    </tr>\n",
       "    <tr>\n",
       "      <th>294309</th>\n",
       "      <td>787083</td>\n",
       "      <td>2017-01-17 00:15:20.950723</td>\n",
       "      <td>control</td>\n",
       "      <td>old_page</td>\n",
       "      <td>0</td>\n",
       "    </tr>\n",
       "    <tr>\n",
       "      <th>294328</th>\n",
       "      <td>641570</td>\n",
       "      <td>2017-01-09 21:59:27.695711</td>\n",
       "      <td>control</td>\n",
       "      <td>old_page</td>\n",
       "      <td>0</td>\n",
       "    </tr>\n",
       "    <tr>\n",
       "      <th>294331</th>\n",
       "      <td>689637</td>\n",
       "      <td>2017-01-13 11:34:28.339532</td>\n",
       "      <td>control</td>\n",
       "      <td>new_page</td>\n",
       "      <td>0</td>\n",
       "    </tr>\n",
       "    <tr>\n",
       "      <th>294355</th>\n",
       "      <td>744456</td>\n",
       "      <td>2017-01-13 09:32:07.106794</td>\n",
       "      <td>treatment</td>\n",
       "      <td>new_page</td>\n",
       "      <td>0</td>\n",
       "    </tr>\n",
       "  </tbody>\n",
       "</table>\n",
       "<p>3894 rows × 5 columns</p>\n",
       "</div>"
      ],
      "text/plain": [
       "        user_id                  timestamp      group landing_page  converted\n",
       "2656     698120 2017-01-15 17:13:42.602796    control     old_page          0\n",
       "2893     773192 2017-01-14 02:55:59.590927  treatment     new_page          0\n",
       "7500     899953 2017-01-07 03:06:54.068237    control     new_page          0\n",
       "8036     790934 2017-01-19 08:32:20.329057  treatment     new_page          0\n",
       "10218    633793 2017-01-17 00:16:00.746561  treatment     old_page          0\n",
       "...         ...                        ...        ...          ...        ...\n",
       "294308   905197 2017-01-03 06:56:47.488231  treatment     new_page          0\n",
       "294309   787083 2017-01-17 00:15:20.950723    control     old_page          0\n",
       "294328   641570 2017-01-09 21:59:27.695711    control     old_page          0\n",
       "294331   689637 2017-01-13 11:34:28.339532    control     new_page          0\n",
       "294355   744456 2017-01-13 09:32:07.106794  treatment     new_page          0\n",
       "\n",
       "[3894 rows x 5 columns]"
      ]
     },
     "execution_count": 12,
     "metadata": {},
     "output_type": "execute_result"
    }
   ],
   "source": [
    "df_dup[df_dup['user_id'].duplicated()]"
   ]
  },
  {
   "cell_type": "code",
   "execution_count": 13,
   "id": "28669f36",
   "metadata": {},
   "outputs": [],
   "source": [
    "# drop all rows with duplicate user_id\n",
    "df_dup = df_dup.drop_duplicates(subset='user_id',keep=False)"
   ]
  },
  {
   "cell_type": "code",
   "execution_count": 14,
   "id": "e4db73bb",
   "metadata": {},
   "outputs": [
    {
     "data": {
      "text/plain": [
       "(286690, 5)"
      ]
     },
     "execution_count": 14,
     "metadata": {},
     "output_type": "execute_result"
    }
   ],
   "source": [
    "# checking the shape again\n",
    "df_dup.shape"
   ]
  },
  {
   "cell_type": "code",
   "execution_count": 15,
   "id": "36a6ec4a",
   "metadata": {},
   "outputs": [
    {
     "name": "stdout",
     "output_type": "stream",
     "text": [
      "Before removing duplicates, there are 294478 rows data.\n",
      "After removing duplicates, there are 286690 rows data. Only 2.6446797383845366% of total data were removed.\n"
     ]
    }
   ],
   "source": [
    "print('Before removing duplicates, there are {} rows data.' .format(len(ori_data)))\n",
    "print('After removing duplicates, there are {} rows data. Only {}% of total data were removed.' .format(len(df_dup),100*(1-(len(df_dup)/len(ori_data)))))"
   ]
  },
  {
   "cell_type": "code",
   "execution_count": 16,
   "id": "1156ad06",
   "metadata": {},
   "outputs": [
    {
     "data": {
      "text/plain": [
       "user_id         0\n",
       "timestamp       0\n",
       "group           0\n",
       "landing_page    0\n",
       "converted       0\n",
       "dtype: int64"
      ]
     },
     "execution_count": 16,
     "metadata": {},
     "output_type": "execute_result"
    }
   ],
   "source": [
    "# checking missing value\n",
    "df_dup.isna().sum()"
   ]
  },
  {
   "cell_type": "markdown",
   "id": "eafd487c",
   "metadata": {},
   "source": [
    "No missing value detected."
   ]
  },
  {
   "cell_type": "code",
   "execution_count": 17,
   "id": "3171b0f0",
   "metadata": {},
   "outputs": [],
   "source": [
    "df_ok = df_dup.copy()"
   ]
  },
  {
   "cell_type": "markdown",
   "id": "80c60c8b",
   "metadata": {},
   "source": [
    "We need to make sure that users from control group are looking only at the old design, and users from treatment group are looking only at the new design."
   ]
  },
  {
   "cell_type": "code",
   "execution_count": 18,
   "id": "10942d59",
   "metadata": {},
   "outputs": [
    {
     "data": {
      "text/html": [
       "<div>\n",
       "<style scoped>\n",
       "    .dataframe tbody tr th:only-of-type {\n",
       "        vertical-align: middle;\n",
       "    }\n",
       "\n",
       "    .dataframe tbody tr th {\n",
       "        vertical-align: top;\n",
       "    }\n",
       "\n",
       "    .dataframe thead th {\n",
       "        text-align: right;\n",
       "    }\n",
       "</style>\n",
       "<table border=\"1\" class=\"dataframe\">\n",
       "  <thead>\n",
       "    <tr style=\"text-align: right;\">\n",
       "      <th>landing_page</th>\n",
       "      <th>new_page</th>\n",
       "      <th>old_page</th>\n",
       "    </tr>\n",
       "    <tr>\n",
       "      <th>group</th>\n",
       "      <th></th>\n",
       "      <th></th>\n",
       "    </tr>\n",
       "  </thead>\n",
       "  <tbody>\n",
       "    <tr>\n",
       "      <th>control</th>\n",
       "      <td>0</td>\n",
       "      <td>143293</td>\n",
       "    </tr>\n",
       "    <tr>\n",
       "      <th>treatment</th>\n",
       "      <td>143397</td>\n",
       "      <td>0</td>\n",
       "    </tr>\n",
       "  </tbody>\n",
       "</table>\n",
       "</div>"
      ],
      "text/plain": [
       "landing_page  new_page  old_page\n",
       "group                           \n",
       "control              0    143293\n",
       "treatment       143397         0"
      ]
     },
     "execution_count": 18,
     "metadata": {},
     "output_type": "execute_result"
    }
   ],
   "source": [
    "# create frequency table \n",
    "pd.crosstab(df_ok['group'],df_ok['landing_page'])"
   ]
  },
  {
   "cell_type": "markdown",
   "id": "f608a333",
   "metadata": {},
   "source": [
    "## Data Exploration"
   ]
  },
  {
   "cell_type": "code",
   "execution_count": 19,
   "id": "5c2d32df",
   "metadata": {},
   "outputs": [
    {
     "data": {
      "text/html": [
       "<div>\n",
       "<style scoped>\n",
       "    .dataframe tbody tr th:only-of-type {\n",
       "        vertical-align: middle;\n",
       "    }\n",
       "\n",
       "    .dataframe tbody tr th {\n",
       "        vertical-align: top;\n",
       "    }\n",
       "\n",
       "    .dataframe thead th {\n",
       "        text-align: right;\n",
       "    }\n",
       "</style>\n",
       "<table border=\"1\" class=\"dataframe\">\n",
       "  <thead>\n",
       "    <tr style=\"text-align: right;\">\n",
       "      <th></th>\n",
       "      <th>user_id</th>\n",
       "      <th>timestamp</th>\n",
       "      <th>group</th>\n",
       "      <th>landing_page</th>\n",
       "      <th>converted</th>\n",
       "    </tr>\n",
       "  </thead>\n",
       "  <tbody>\n",
       "    <tr>\n",
       "      <th>0</th>\n",
       "      <td>851104</td>\n",
       "      <td>2017-01-21 22:11:48.556739</td>\n",
       "      <td>control</td>\n",
       "      <td>old_page</td>\n",
       "      <td>0</td>\n",
       "    </tr>\n",
       "    <tr>\n",
       "      <th>1</th>\n",
       "      <td>804228</td>\n",
       "      <td>2017-01-12 08:01:45.159739</td>\n",
       "      <td>control</td>\n",
       "      <td>old_page</td>\n",
       "      <td>0</td>\n",
       "    </tr>\n",
       "    <tr>\n",
       "      <th>2</th>\n",
       "      <td>661590</td>\n",
       "      <td>2017-01-11 16:55:06.154213</td>\n",
       "      <td>treatment</td>\n",
       "      <td>new_page</td>\n",
       "      <td>0</td>\n",
       "    </tr>\n",
       "    <tr>\n",
       "      <th>3</th>\n",
       "      <td>853541</td>\n",
       "      <td>2017-01-08 18:28:03.143765</td>\n",
       "      <td>treatment</td>\n",
       "      <td>new_page</td>\n",
       "      <td>0</td>\n",
       "    </tr>\n",
       "    <tr>\n",
       "      <th>4</th>\n",
       "      <td>864975</td>\n",
       "      <td>2017-01-21 01:52:26.210827</td>\n",
       "      <td>control</td>\n",
       "      <td>old_page</td>\n",
       "      <td>1</td>\n",
       "    </tr>\n",
       "  </tbody>\n",
       "</table>\n",
       "</div>"
      ],
      "text/plain": [
       "   user_id                  timestamp      group landing_page  converted\n",
       "0   851104 2017-01-21 22:11:48.556739    control     old_page          0\n",
       "1   804228 2017-01-12 08:01:45.159739    control     old_page          0\n",
       "2   661590 2017-01-11 16:55:06.154213  treatment     new_page          0\n",
       "3   853541 2017-01-08 18:28:03.143765  treatment     new_page          0\n",
       "4   864975 2017-01-21 01:52:26.210827    control     old_page          1"
      ]
     },
     "execution_count": 19,
     "metadata": {},
     "output_type": "execute_result"
    }
   ],
   "source": [
    "df_ok.head()"
   ]
  },
  {
   "cell_type": "code",
   "execution_count": 20,
   "id": "d979955e",
   "metadata": {},
   "outputs": [
    {
     "name": "stdout",
     "output_type": "stream",
     "text": [
      "The experiment was conducted between 2017-01-02 13:42:05.378582 and 2017-01-24 13:41:54.460509\n"
     ]
    }
   ],
   "source": [
    "# checking start and end date of dataset\n",
    "print(\"The experiment was conducted between\", df_ok['timestamp'].min(),'and',df_ok['timestamp'].max())"
   ]
  },
  {
   "cell_type": "code",
   "execution_count": 21,
   "id": "b7c8faca",
   "metadata": {},
   "outputs": [
    {
     "data": {
      "text/html": [
       "<div>\n",
       "<style scoped>\n",
       "    .dataframe tbody tr th:only-of-type {\n",
       "        vertical-align: middle;\n",
       "    }\n",
       "\n",
       "    .dataframe tbody tr th {\n",
       "        vertical-align: top;\n",
       "    }\n",
       "\n",
       "    .dataframe thead th {\n",
       "        text-align: right;\n",
       "    }\n",
       "</style>\n",
       "<table border=\"1\" class=\"dataframe\">\n",
       "  <thead>\n",
       "    <tr style=\"text-align: right;\">\n",
       "      <th></th>\n",
       "      <th>N_Control</th>\n",
       "      <th>N_Treatment</th>\n",
       "      <th>ratio_Control</th>\n",
       "      <th>ratio_Treatment</th>\n",
       "    </tr>\n",
       "  </thead>\n",
       "  <tbody>\n",
       "    <tr>\n",
       "      <th>0</th>\n",
       "      <td>126073</td>\n",
       "      <td>126372</td>\n",
       "      <td>0.879827</td>\n",
       "      <td>0.881274</td>\n",
       "    </tr>\n",
       "    <tr>\n",
       "      <th>1</th>\n",
       "      <td>17220</td>\n",
       "      <td>17025</td>\n",
       "      <td>0.120173</td>\n",
       "      <td>0.118726</td>\n",
       "    </tr>\n",
       "  </tbody>\n",
       "</table>\n",
       "</div>"
      ],
      "text/plain": [
       "   N_Control  N_Treatment  ratio_Control  ratio_Treatment\n",
       "0     126073       126372       0.879827         0.881274\n",
       "1      17220        17025       0.120173         0.118726"
      ]
     },
     "execution_count": 21,
     "metadata": {},
     "output_type": "execute_result"
    }
   ],
   "source": [
    "df_test = pd.DataFrame({'N_Control': df_ok[df_ok['group']=='control'].converted.value_counts(),\n",
    "                       'N_Treatment': df_ok[df_ok['group']=='treatment'].converted.value_counts(),\n",
    "                       'ratio_Control': df_ok[df_ok['group']=='control'].converted.value_counts()/len(df_ok[df_ok['group']=='control']),\n",
    "                       'ratio_Treatment': df_ok[df_ok['group']=='treatment'].converted.value_counts()/len(df_ok[df_ok['group']=='treatment'])})\n",
    "df_test"
   ]
  },
  {
   "cell_type": "code",
   "execution_count": 22,
   "id": "968cf3d8",
   "metadata": {},
   "outputs": [
    {
     "data": {
      "image/png": "[encoded data removed]",
      "text/plain": [
       "<Figure size 1080x432 with 2 Axes>"
      ]
     },
     "metadata": {
      "needs_background": "light"
     },
     "output_type": "display_data"
    }
   ],
   "source": [
    "fig, axes = plt.subplots(1,2)\n",
    "\n",
    "sns.countplot(x='group', data=df_ok, ax=axes[0])\n",
    "axes[0].set(title=\"Total Users for Each Group\", ylabel='Count')\n",
    "\n",
    "sns.countplot(x='converted', data=df_ok, ax=axes[1], hue='group')\n",
    "axes[1].set(title='Number Conversion for Each Group', ylabel='Count')\n",
    "fig.set_size_inches(15, 6)"
   ]
  },
  {
   "cell_type": "markdown",
   "id": "6fcfbade",
   "metadata": {},
   "source": [
    "Based on the graph above, total users for each group in this experiment are balanced enough."
   ]
  },
  {
   "cell_type": "code",
   "execution_count": 23,
   "id": "98d3eea1",
   "metadata": {},
   "outputs": [
    {
     "data": {
      "text/html": [
       "<div>\n",
       "<style scoped>\n",
       "    .dataframe tbody tr th:only-of-type {\n",
       "        vertical-align: middle;\n",
       "    }\n",
       "\n",
       "    .dataframe tbody tr th {\n",
       "        vertical-align: top;\n",
       "    }\n",
       "\n",
       "    .dataframe thead th {\n",
       "        text-align: right;\n",
       "    }\n",
       "</style>\n",
       "<table border=\"1\" class=\"dataframe\">\n",
       "  <thead>\n",
       "    <tr style=\"text-align: right;\">\n",
       "      <th></th>\n",
       "      <th>conversion_rate</th>\n",
       "      <th>std_deviation</th>\n",
       "    </tr>\n",
       "    <tr>\n",
       "      <th>group</th>\n",
       "      <th></th>\n",
       "      <th></th>\n",
       "    </tr>\n",
       "  </thead>\n",
       "  <tbody>\n",
       "    <tr>\n",
       "      <th>control</th>\n",
       "      <td>0.120173</td>\n",
       "      <td>0.325165</td>\n",
       "    </tr>\n",
       "    <tr>\n",
       "      <th>treatment</th>\n",
       "      <td>0.118726</td>\n",
       "      <td>0.323467</td>\n",
       "    </tr>\n",
       "  </tbody>\n",
       "</table>\n",
       "</div>"
      ],
      "text/plain": [
       "           conversion_rate  std_deviation\n",
       "group                                    \n",
       "control           0.120173       0.325165\n",
       "treatment         0.118726       0.323467"
      ]
     },
     "execution_count": 23,
     "metadata": {},
     "output_type": "execute_result"
    }
   ],
   "source": [
    "conversion_rates = df_ok.groupby('group')['converted'].agg([np.mean, np.std])\n",
    "conversion_rates.columns = ['conversion_rate', 'std_deviation']\n",
    "conversion_rates"
   ]
  },
  {
   "cell_type": "markdown",
   "id": "dbe8be98",
   "metadata": {},
   "source": [
    "The control group shows us **12.01%** of conversion rate, slightyly better than the treatment group that shows us **11.87%** of conversion rate. But, A/B Testing will be performed for more accurate analysis."
   ]
  },
  {
   "cell_type": "markdown",
   "id": "124cfb0e",
   "metadata": {},
   "source": [
    "## A/B Testing I\n",
    "\n",
    "*(All Data)*"
   ]
  },
  {
   "cell_type": "markdown",
   "id": "8e3306a7",
   "metadata": {},
   "source": [
    "In this project, we will be performing two-tailed hypothesis testing with confidence interval of 95% ***(alpha treshold = 0.05)***.\n",
    "\n",
    "**The hypothesis will be formulated as follow :**\n",
    "\n",
    "H0 : Conversion rate of old design is equal to conversion rate of new design\n",
    "\n",
    "H1 : Conversion rate of old design is not equal to conversion rate of new design"
   ]
  },
  {
   "cell_type": "code",
   "execution_count": 24,
   "id": "60e099bc",
   "metadata": {},
   "outputs": [
    {
     "data": {
      "text/html": [
       "<div>\n",
       "<style scoped>\n",
       "    .dataframe tbody tr th:only-of-type {\n",
       "        vertical-align: middle;\n",
       "    }\n",
       "\n",
       "    .dataframe tbody tr th {\n",
       "        vertical-align: top;\n",
       "    }\n",
       "\n",
       "    .dataframe thead th {\n",
       "        text-align: right;\n",
       "    }\n",
       "</style>\n",
       "<table border=\"1\" class=\"dataframe\">\n",
       "  <thead>\n",
       "    <tr style=\"text-align: right;\">\n",
       "      <th></th>\n",
       "      <th>user_id</th>\n",
       "      <th>timestamp</th>\n",
       "      <th>group</th>\n",
       "      <th>landing_page</th>\n",
       "      <th>converted</th>\n",
       "    </tr>\n",
       "  </thead>\n",
       "  <tbody>\n",
       "    <tr>\n",
       "      <th>0</th>\n",
       "      <td>851104</td>\n",
       "      <td>2017-01-21 22:11:48.556739</td>\n",
       "      <td>control</td>\n",
       "      <td>old_page</td>\n",
       "      <td>0</td>\n",
       "    </tr>\n",
       "    <tr>\n",
       "      <th>1</th>\n",
       "      <td>804228</td>\n",
       "      <td>2017-01-12 08:01:45.159739</td>\n",
       "      <td>control</td>\n",
       "      <td>old_page</td>\n",
       "      <td>0</td>\n",
       "    </tr>\n",
       "    <tr>\n",
       "      <th>4</th>\n",
       "      <td>864975</td>\n",
       "      <td>2017-01-21 01:52:26.210827</td>\n",
       "      <td>control</td>\n",
       "      <td>old_page</td>\n",
       "      <td>1</td>\n",
       "    </tr>\n",
       "    <tr>\n",
       "      <th>5</th>\n",
       "      <td>936923</td>\n",
       "      <td>2017-01-10 15:20:49.083499</td>\n",
       "      <td>control</td>\n",
       "      <td>old_page</td>\n",
       "      <td>0</td>\n",
       "    </tr>\n",
       "    <tr>\n",
       "      <th>7</th>\n",
       "      <td>719014</td>\n",
       "      <td>2017-01-17 01:48:29.539573</td>\n",
       "      <td>control</td>\n",
       "      <td>old_page</td>\n",
       "      <td>0</td>\n",
       "    </tr>\n",
       "  </tbody>\n",
       "</table>\n",
       "</div>"
      ],
      "text/plain": [
       "   user_id                  timestamp    group landing_page  converted\n",
       "0   851104 2017-01-21 22:11:48.556739  control     old_page          0\n",
       "1   804228 2017-01-12 08:01:45.159739  control     old_page          0\n",
       "4   864975 2017-01-21 01:52:26.210827  control     old_page          1\n",
       "5   936923 2017-01-10 15:20:49.083499  control     old_page          0\n",
       "7   719014 2017-01-17 01:48:29.539573  control     old_page          0"
      ]
     },
     "execution_count": 24,
     "metadata": {},
     "output_type": "execute_result"
    }
   ],
   "source": [
    "df_control = df_ok.copy()\n",
    "df_control = df_control[df_control['group']=='control']\n",
    "df_control.head()"
   ]
  },
  {
   "cell_type": "code",
   "execution_count": 25,
   "id": "462052a7",
   "metadata": {},
   "outputs": [
    {
     "data": {
      "text/html": [
       "<div>\n",
       "<style scoped>\n",
       "    .dataframe tbody tr th:only-of-type {\n",
       "        vertical-align: middle;\n",
       "    }\n",
       "\n",
       "    .dataframe tbody tr th {\n",
       "        vertical-align: top;\n",
       "    }\n",
       "\n",
       "    .dataframe thead th {\n",
       "        text-align: right;\n",
       "    }\n",
       "</style>\n",
       "<table border=\"1\" class=\"dataframe\">\n",
       "  <thead>\n",
       "    <tr style=\"text-align: right;\">\n",
       "      <th></th>\n",
       "      <th>user_id</th>\n",
       "      <th>timestamp</th>\n",
       "      <th>group</th>\n",
       "      <th>landing_page</th>\n",
       "      <th>converted</th>\n",
       "    </tr>\n",
       "  </thead>\n",
       "  <tbody>\n",
       "    <tr>\n",
       "      <th>2</th>\n",
       "      <td>661590</td>\n",
       "      <td>2017-01-11 16:55:06.154213</td>\n",
       "      <td>treatment</td>\n",
       "      <td>new_page</td>\n",
       "      <td>0</td>\n",
       "    </tr>\n",
       "    <tr>\n",
       "      <th>3</th>\n",
       "      <td>853541</td>\n",
       "      <td>2017-01-08 18:28:03.143765</td>\n",
       "      <td>treatment</td>\n",
       "      <td>new_page</td>\n",
       "      <td>0</td>\n",
       "    </tr>\n",
       "    <tr>\n",
       "      <th>6</th>\n",
       "      <td>679687</td>\n",
       "      <td>2017-01-19 03:26:46.940749</td>\n",
       "      <td>treatment</td>\n",
       "      <td>new_page</td>\n",
       "      <td>1</td>\n",
       "    </tr>\n",
       "    <tr>\n",
       "      <th>8</th>\n",
       "      <td>817355</td>\n",
       "      <td>2017-01-04 17:58:08.979471</td>\n",
       "      <td>treatment</td>\n",
       "      <td>new_page</td>\n",
       "      <td>1</td>\n",
       "    </tr>\n",
       "    <tr>\n",
       "      <th>9</th>\n",
       "      <td>839785</td>\n",
       "      <td>2017-01-15 18:11:06.610965</td>\n",
       "      <td>treatment</td>\n",
       "      <td>new_page</td>\n",
       "      <td>1</td>\n",
       "    </tr>\n",
       "  </tbody>\n",
       "</table>\n",
       "</div>"
      ],
      "text/plain": [
       "   user_id                  timestamp      group landing_page  converted\n",
       "2   661590 2017-01-11 16:55:06.154213  treatment     new_page          0\n",
       "3   853541 2017-01-08 18:28:03.143765  treatment     new_page          0\n",
       "6   679687 2017-01-19 03:26:46.940749  treatment     new_page          1\n",
       "8   817355 2017-01-04 17:58:08.979471  treatment     new_page          1\n",
       "9   839785 2017-01-15 18:11:06.610965  treatment     new_page          1"
      ]
     },
     "execution_count": 25,
     "metadata": {},
     "output_type": "execute_result"
    }
   ],
   "source": [
    "df_treatment = df_ok.copy()\n",
    "df_treatment = df_treatment[df_treatment['group']=='treatment']\n",
    "df_treatment.head()"
   ]
  },
  {
   "cell_type": "code",
   "execution_count": 26,
   "id": "9ac1cbe2",
   "metadata": {},
   "outputs": [
    {
     "name": "stdout",
     "output_type": "stream",
     "text": [
      "z-score =  1.1944838871517816\n",
      "p-value =  0.23228873989686571\n",
      "\n",
      "P-value score (0.23) is bigger than alpha threshold (0.05), we don't have enough convidence to reject null hypothesis.\n"
     ]
    }
   ],
   "source": [
    "from statsmodels.stats.weightstats import ztest \n",
    "\n",
    "z_score, p_value = ztest(df_control['converted'],df_treatment['converted'])\n",
    "print('z-score = ',z_score)\n",
    "print('p-value = ',p_value)\n",
    "\n",
    "if p_value<0.05:\n",
    "    print('\\nP-value score ({}) is smaller than alpha threshold (0.05), we have enough evidence to reject null hypothesis.' .format(p_value.round(2)))\n",
    "else:\n",
    "    print('\\nP-value score ({}) is bigger than alpha threshold (0.05), we don\\'t have enough convidence to reject null hypothesis.' .format(p_value.round(2)))"
   ]
  },
  {
   "cell_type": "markdown",
   "id": "ec9e5037",
   "metadata": {},
   "source": [
    "### **Result** \n",
    "\n",
    "We don't have enough convidence to reject null hypothesis, therefore we **accept null hypothesis**. \n",
    "\n",
    "\n",
    "### **Conclusion**\n",
    "\n",
    "The conversion rate of old design **is equal** to conversion rate of new design. So, new version of menu page **doesn't give better** conversion rate."
   ]
  },
  {
   "cell_type": "markdown",
   "id": "f1a0ade2",
   "metadata": {},
   "source": [
    "## A/B Testing II\n",
    "\n",
    "*(Subset of Data)*"
   ]
  },
  {
   "cell_type": "markdown",
   "id": "ffca9ad3",
   "metadata": {},
   "source": [
    "Before conduct A/B Testing, we need to determine required sample size, and it is based on three factors :\n",
    "\n",
    "1. Power of the test\n",
    "\n",
    "    In this case, the power of test will be set at **0.9**.\n",
    "        \n",
    "2. Confidence Level \n",
    "    \n",
    "    In this case, the confidence level will be set at 95% with **alpha threshold = 0.05**.\n",
    "\n",
    "3. Minimum Detectable Effect\n",
    "\n",
    "    In this case, the Minimum Detectable Effect (MDE) will be set at **3%** *(from 12% to 15%)*."
   ]
  },
  {
   "cell_type": "code",
   "execution_count": 27,
   "id": "1c79932a",
   "metadata": {},
   "outputs": [
    {
     "name": "stdout",
     "output_type": "stream",
     "text": [
      "2719\n"
     ]
    }
   ],
   "source": [
    "# calculating number of required sample size\n",
    "\n",
    "effect = sms.proportion_effectsize(0.12, 0.15)\n",
    "\n",
    "required_n = sms.NormalIndPower().solve_power(effect, power=0.9, alpha=0.05, ratio=1.0, alternative='two-sided')\n",
    "\n",
    "required_n = math.ceil(required_n)\n",
    "\n",
    "print(required_n)"
   ]
  },
  {
   "cell_type": "markdown",
   "id": "8db82add",
   "metadata": {},
   "source": [
    "Therefore, we need **2,719 users in control** group and **2,719 users in treatment** group."
   ]
  },
  {
   "cell_type": "code",
   "execution_count": 28,
   "id": "6d76ed26",
   "metadata": {},
   "outputs": [],
   "source": [
    "# random sampling from each group\n",
    "control_group = df_control.sample(required_n)\n",
    "treatment_group = df_treatment.sample(required_n)"
   ]
  },
  {
   "cell_type": "code",
   "execution_count": 29,
   "id": "1b1035c7",
   "metadata": {},
   "outputs": [
    {
     "data": {
      "text/html": [
       "<div>\n",
       "<style scoped>\n",
       "    .dataframe tbody tr th:only-of-type {\n",
       "        vertical-align: middle;\n",
       "    }\n",
       "\n",
       "    .dataframe tbody tr th {\n",
       "        vertical-align: top;\n",
       "    }\n",
       "\n",
       "    .dataframe thead th {\n",
       "        text-align: right;\n",
       "    }\n",
       "</style>\n",
       "<table border=\"1\" class=\"dataframe\">\n",
       "  <thead>\n",
       "    <tr style=\"text-align: right;\">\n",
       "      <th></th>\n",
       "      <th>user_id</th>\n",
       "      <th>timestamp</th>\n",
       "      <th>group</th>\n",
       "      <th>landing_page</th>\n",
       "      <th>converted</th>\n",
       "    </tr>\n",
       "  </thead>\n",
       "  <tbody>\n",
       "    <tr>\n",
       "      <th>0</th>\n",
       "      <td>930997</td>\n",
       "      <td>2017-01-11 13:42:26.523292</td>\n",
       "      <td>control</td>\n",
       "      <td>old_page</td>\n",
       "      <td>0</td>\n",
       "    </tr>\n",
       "    <tr>\n",
       "      <th>1</th>\n",
       "      <td>945048</td>\n",
       "      <td>2017-01-19 04:43:05.332276</td>\n",
       "      <td>control</td>\n",
       "      <td>old_page</td>\n",
       "      <td>0</td>\n",
       "    </tr>\n",
       "    <tr>\n",
       "      <th>2</th>\n",
       "      <td>646340</td>\n",
       "      <td>2017-01-14 14:43:59.556863</td>\n",
       "      <td>control</td>\n",
       "      <td>old_page</td>\n",
       "      <td>0</td>\n",
       "    </tr>\n",
       "    <tr>\n",
       "      <th>3</th>\n",
       "      <td>830162</td>\n",
       "      <td>2017-01-24 03:42:45.989620</td>\n",
       "      <td>control</td>\n",
       "      <td>old_page</td>\n",
       "      <td>0</td>\n",
       "    </tr>\n",
       "    <tr>\n",
       "      <th>4</th>\n",
       "      <td>661871</td>\n",
       "      <td>2017-01-15 11:53:22.646398</td>\n",
       "      <td>control</td>\n",
       "      <td>old_page</td>\n",
       "      <td>0</td>\n",
       "    </tr>\n",
       "    <tr>\n",
       "      <th>...</th>\n",
       "      <td>...</td>\n",
       "      <td>...</td>\n",
       "      <td>...</td>\n",
       "      <td>...</td>\n",
       "      <td>...</td>\n",
       "    </tr>\n",
       "    <tr>\n",
       "      <th>5433</th>\n",
       "      <td>795712</td>\n",
       "      <td>2017-01-10 08:36:54.989899</td>\n",
       "      <td>treatment</td>\n",
       "      <td>new_page</td>\n",
       "      <td>0</td>\n",
       "    </tr>\n",
       "    <tr>\n",
       "      <th>5434</th>\n",
       "      <td>851352</td>\n",
       "      <td>2017-01-21 00:00:11.001682</td>\n",
       "      <td>treatment</td>\n",
       "      <td>new_page</td>\n",
       "      <td>0</td>\n",
       "    </tr>\n",
       "    <tr>\n",
       "      <th>5435</th>\n",
       "      <td>927231</td>\n",
       "      <td>2017-01-11 08:34:54.675370</td>\n",
       "      <td>treatment</td>\n",
       "      <td>new_page</td>\n",
       "      <td>1</td>\n",
       "    </tr>\n",
       "    <tr>\n",
       "      <th>5436</th>\n",
       "      <td>730362</td>\n",
       "      <td>2017-01-12 02:02:56.432833</td>\n",
       "      <td>treatment</td>\n",
       "      <td>new_page</td>\n",
       "      <td>0</td>\n",
       "    </tr>\n",
       "    <tr>\n",
       "      <th>5437</th>\n",
       "      <td>871734</td>\n",
       "      <td>2017-01-09 13:31:12.536426</td>\n",
       "      <td>treatment</td>\n",
       "      <td>new_page</td>\n",
       "      <td>1</td>\n",
       "    </tr>\n",
       "  </tbody>\n",
       "</table>\n",
       "<p>5438 rows × 5 columns</p>\n",
       "</div>"
      ],
      "text/plain": [
       "      user_id                  timestamp      group landing_page  converted\n",
       "0      930997 2017-01-11 13:42:26.523292    control     old_page          0\n",
       "1      945048 2017-01-19 04:43:05.332276    control     old_page          0\n",
       "2      646340 2017-01-14 14:43:59.556863    control     old_page          0\n",
       "3      830162 2017-01-24 03:42:45.989620    control     old_page          0\n",
       "4      661871 2017-01-15 11:53:22.646398    control     old_page          0\n",
       "...       ...                        ...        ...          ...        ...\n",
       "5433   795712 2017-01-10 08:36:54.989899  treatment     new_page          0\n",
       "5434   851352 2017-01-21 00:00:11.001682  treatment     new_page          0\n",
       "5435   927231 2017-01-11 08:34:54.675370  treatment     new_page          1\n",
       "5436   730362 2017-01-12 02:02:56.432833  treatment     new_page          0\n",
       "5437   871734 2017-01-09 13:31:12.536426  treatment     new_page          1\n",
       "\n",
       "[5438 rows x 5 columns]"
      ]
     },
     "execution_count": 29,
     "metadata": {},
     "output_type": "execute_result"
    }
   ],
   "source": [
    "# combine both groups\n",
    "ab_test = pd.concat([control_group, treatment_group], axis=0)\n",
    "ab_test.reset_index(inplace=True, drop=True)\n",
    "ab_test"
   ]
  },
  {
   "cell_type": "code",
   "execution_count": 30,
   "id": "282d086a",
   "metadata": {},
   "outputs": [
    {
     "data": {
      "text/html": [
       "<div>\n",
       "<style scoped>\n",
       "    .dataframe tbody tr th:only-of-type {\n",
       "        vertical-align: middle;\n",
       "    }\n",
       "\n",
       "    .dataframe tbody tr th {\n",
       "        vertical-align: top;\n",
       "    }\n",
       "\n",
       "    .dataframe thead th {\n",
       "        text-align: right;\n",
       "    }\n",
       "</style>\n",
       "<table border=\"1\" class=\"dataframe\">\n",
       "  <thead>\n",
       "    <tr style=\"text-align: right;\">\n",
       "      <th></th>\n",
       "      <th>user_id</th>\n",
       "      <th>timestamp</th>\n",
       "      <th>group</th>\n",
       "      <th>landing_page</th>\n",
       "      <th>converted</th>\n",
       "    </tr>\n",
       "  </thead>\n",
       "  <tbody>\n",
       "    <tr>\n",
       "      <th>98408</th>\n",
       "      <td>930997</td>\n",
       "      <td>2017-01-11 13:42:26.523292</td>\n",
       "      <td>control</td>\n",
       "      <td>old_page</td>\n",
       "      <td>0</td>\n",
       "    </tr>\n",
       "    <tr>\n",
       "      <th>42601</th>\n",
       "      <td>945048</td>\n",
       "      <td>2017-01-19 04:43:05.332276</td>\n",
       "      <td>control</td>\n",
       "      <td>old_page</td>\n",
       "      <td>0</td>\n",
       "    </tr>\n",
       "    <tr>\n",
       "      <th>95439</th>\n",
       "      <td>646340</td>\n",
       "      <td>2017-01-14 14:43:59.556863</td>\n",
       "      <td>control</td>\n",
       "      <td>old_page</td>\n",
       "      <td>0</td>\n",
       "    </tr>\n",
       "    <tr>\n",
       "      <th>56225</th>\n",
       "      <td>830162</td>\n",
       "      <td>2017-01-24 03:42:45.989620</td>\n",
       "      <td>control</td>\n",
       "      <td>old_page</td>\n",
       "      <td>0</td>\n",
       "    </tr>\n",
       "    <tr>\n",
       "      <th>208228</th>\n",
       "      <td>661871</td>\n",
       "      <td>2017-01-15 11:53:22.646398</td>\n",
       "      <td>control</td>\n",
       "      <td>old_page</td>\n",
       "      <td>0</td>\n",
       "    </tr>\n",
       "  </tbody>\n",
       "</table>\n",
       "</div>"
      ],
      "text/plain": [
       "        user_id                  timestamp    group landing_page  converted\n",
       "98408    930997 2017-01-11 13:42:26.523292  control     old_page          0\n",
       "42601    945048 2017-01-19 04:43:05.332276  control     old_page          0\n",
       "95439    646340 2017-01-14 14:43:59.556863  control     old_page          0\n",
       "56225    830162 2017-01-24 03:42:45.989620  control     old_page          0\n",
       "208228   661871 2017-01-15 11:53:22.646398  control     old_page          0"
      ]
     },
     "execution_count": 30,
     "metadata": {},
     "output_type": "execute_result"
    }
   ],
   "source": [
    "# checking sample of control group\n",
    "control_group.head()"
   ]
  },
  {
   "cell_type": "code",
   "execution_count": 31,
   "id": "795f8d79",
   "metadata": {},
   "outputs": [
    {
     "data": {
      "text/html": [
       "<div>\n",
       "<style scoped>\n",
       "    .dataframe tbody tr th:only-of-type {\n",
       "        vertical-align: middle;\n",
       "    }\n",
       "\n",
       "    .dataframe tbody tr th {\n",
       "        vertical-align: top;\n",
       "    }\n",
       "\n",
       "    .dataframe thead th {\n",
       "        text-align: right;\n",
       "    }\n",
       "</style>\n",
       "<table border=\"1\" class=\"dataframe\">\n",
       "  <thead>\n",
       "    <tr style=\"text-align: right;\">\n",
       "      <th></th>\n",
       "      <th>user_id</th>\n",
       "      <th>timestamp</th>\n",
       "      <th>group</th>\n",
       "      <th>landing_page</th>\n",
       "      <th>converted</th>\n",
       "    </tr>\n",
       "  </thead>\n",
       "  <tbody>\n",
       "    <tr>\n",
       "      <th>19157</th>\n",
       "      <td>816372</td>\n",
       "      <td>2017-01-07 03:38:17.188079</td>\n",
       "      <td>treatment</td>\n",
       "      <td>new_page</td>\n",
       "      <td>1</td>\n",
       "    </tr>\n",
       "    <tr>\n",
       "      <th>84974</th>\n",
       "      <td>639320</td>\n",
       "      <td>2017-01-13 12:17:51.403330</td>\n",
       "      <td>treatment</td>\n",
       "      <td>new_page</td>\n",
       "      <td>0</td>\n",
       "    </tr>\n",
       "    <tr>\n",
       "      <th>102673</th>\n",
       "      <td>917992</td>\n",
       "      <td>2017-01-07 21:14:09.180264</td>\n",
       "      <td>treatment</td>\n",
       "      <td>new_page</td>\n",
       "      <td>0</td>\n",
       "    </tr>\n",
       "    <tr>\n",
       "      <th>188756</th>\n",
       "      <td>684874</td>\n",
       "      <td>2017-01-15 12:48:41.976519</td>\n",
       "      <td>treatment</td>\n",
       "      <td>new_page</td>\n",
       "      <td>0</td>\n",
       "    </tr>\n",
       "    <tr>\n",
       "      <th>257338</th>\n",
       "      <td>647557</td>\n",
       "      <td>2017-01-08 05:51:13.727277</td>\n",
       "      <td>treatment</td>\n",
       "      <td>new_page</td>\n",
       "      <td>0</td>\n",
       "    </tr>\n",
       "  </tbody>\n",
       "</table>\n",
       "</div>"
      ],
      "text/plain": [
       "        user_id                  timestamp      group landing_page  converted\n",
       "19157    816372 2017-01-07 03:38:17.188079  treatment     new_page          1\n",
       "84974    639320 2017-01-13 12:17:51.403330  treatment     new_page          0\n",
       "102673   917992 2017-01-07 21:14:09.180264  treatment     new_page          0\n",
       "188756   684874 2017-01-15 12:48:41.976519  treatment     new_page          0\n",
       "257338   647557 2017-01-08 05:51:13.727277  treatment     new_page          0"
      ]
     },
     "execution_count": 31,
     "metadata": {},
     "output_type": "execute_result"
    }
   ],
   "source": [
    "# checking sample of treatment group\n",
    "treatment_group.head()"
   ]
  },
  {
   "cell_type": "code",
   "execution_count": 32,
   "id": "67260b77",
   "metadata": {},
   "outputs": [
    {
     "data": {
      "text/html": [
       "<div>\n",
       "<style scoped>\n",
       "    .dataframe tbody tr th:only-of-type {\n",
       "        vertical-align: middle;\n",
       "    }\n",
       "\n",
       "    .dataframe tbody tr th {\n",
       "        vertical-align: top;\n",
       "    }\n",
       "\n",
       "    .dataframe thead th {\n",
       "        text-align: right;\n",
       "    }\n",
       "</style>\n",
       "<table border=\"1\" class=\"dataframe\">\n",
       "  <thead>\n",
       "    <tr style=\"text-align: right;\">\n",
       "      <th></th>\n",
       "      <th>N_Control</th>\n",
       "      <th>N_Treatment</th>\n",
       "      <th>ratio_Control</th>\n",
       "      <th>ratio_Treatment</th>\n",
       "    </tr>\n",
       "  </thead>\n",
       "  <tbody>\n",
       "    <tr>\n",
       "      <th>0</th>\n",
       "      <td>2400</td>\n",
       "      <td>2384</td>\n",
       "      <td>0.882677</td>\n",
       "      <td>0.876793</td>\n",
       "    </tr>\n",
       "    <tr>\n",
       "      <th>1</th>\n",
       "      <td>319</td>\n",
       "      <td>335</td>\n",
       "      <td>0.117323</td>\n",
       "      <td>0.123207</td>\n",
       "    </tr>\n",
       "  </tbody>\n",
       "</table>\n",
       "</div>"
      ],
      "text/plain": [
       "   N_Control  N_Treatment  ratio_Control  ratio_Treatment\n",
       "0       2400         2384       0.882677         0.876793\n",
       "1        319          335       0.117323         0.123207"
      ]
     },
     "execution_count": 32,
     "metadata": {},
     "output_type": "execute_result"
    }
   ],
   "source": [
    "df_test = pd.DataFrame({'N_Control': control_group.converted.value_counts(),\n",
    "                       'N_Treatment': treatment_group.converted.value_counts(),\n",
    "                       'ratio_Control': control_group.converted.value_counts()/len(control_group),\n",
    "                       'ratio_Treatment': treatment_group.converted.value_counts()/len(treatment_group)})\n",
    "df_test"
   ]
  },
  {
   "cell_type": "code",
   "execution_count": 33,
   "id": "3a822aad",
   "metadata": {},
   "outputs": [
    {
     "data": {
      "image/png": "[encoded data removed]",
      "text/plain": [
       "<Figure size 1080x432 with 2 Axes>"
      ]
     },
     "metadata": {
      "needs_background": "light"
     },
     "output_type": "display_data"
    }
   ],
   "source": [
    "fig, axes = plt.subplots(1,2)\n",
    "\n",
    "sns.countplot(x='group', data=ab_test, ax=axes[0])\n",
    "axes[0].set(title=\"Total Users for Each Group\", ylabel='Count')\n",
    "\n",
    "sns.countplot(x='converted', data=ab_test, ax=axes[1], hue='group')\n",
    "axes[1].set(title='Number Conversion for Each Group', ylabel='Count')\n",
    "fig.set_size_inches(15, 6)"
   ]
  },
  {
   "cell_type": "markdown",
   "id": "dac98b3d",
   "metadata": {},
   "source": [
    "Based on the graph above, total users for each group in this experiment are balanced enough."
   ]
  },
  {
   "cell_type": "code",
   "execution_count": 34,
   "id": "83f50098",
   "metadata": {},
   "outputs": [
    {
     "data": {
      "text/html": [
       "<div>\n",
       "<style scoped>\n",
       "    .dataframe tbody tr th:only-of-type {\n",
       "        vertical-align: middle;\n",
       "    }\n",
       "\n",
       "    .dataframe tbody tr th {\n",
       "        vertical-align: top;\n",
       "    }\n",
       "\n",
       "    .dataframe thead th {\n",
       "        text-align: right;\n",
       "    }\n",
       "</style>\n",
       "<table border=\"1\" class=\"dataframe\">\n",
       "  <thead>\n",
       "    <tr style=\"text-align: right;\">\n",
       "      <th></th>\n",
       "      <th>conversion_rate</th>\n",
       "      <th>std_deviation</th>\n",
       "    </tr>\n",
       "    <tr>\n",
       "      <th>group</th>\n",
       "      <th></th>\n",
       "      <th></th>\n",
       "    </tr>\n",
       "  </thead>\n",
       "  <tbody>\n",
       "    <tr>\n",
       "      <th>control</th>\n",
       "      <td>0.117323</td>\n",
       "      <td>0.321863</td>\n",
       "    </tr>\n",
       "    <tr>\n",
       "      <th>treatment</th>\n",
       "      <td>0.123207</td>\n",
       "      <td>0.328735</td>\n",
       "    </tr>\n",
       "  </tbody>\n",
       "</table>\n",
       "</div>"
      ],
      "text/plain": [
       "           conversion_rate  std_deviation\n",
       "group                                    \n",
       "control           0.117323       0.321863\n",
       "treatment         0.123207       0.328735"
      ]
     },
     "execution_count": 34,
     "metadata": {},
     "output_type": "execute_result"
    }
   ],
   "source": [
    "conversion_rates = ab_test.groupby('group')['converted'].agg([np.mean, np.std])\n",
    "conversion_rates.columns = ['conversion_rate', 'std_deviation']\n",
    "conversion_rates"
   ]
  },
  {
   "cell_type": "markdown",
   "id": "456ed1a2",
   "metadata": {},
   "source": [
    "In this project, we will be performing two-tailed hypothesis testing with confidence interval of 95% ***(alpha treshold = 0.05)***.\n",
    "\n",
    "**The hypothesis will be formulated as follow :**\n",
    "\n",
    "H0 : Conversion rate of old design is equal to conversion rate of new design\n",
    "\n",
    "H1 : Conversion rate of old design is not equal to conversion rate of new design"
   ]
  },
  {
   "cell_type": "code",
   "execution_count": 35,
   "id": "cb9cad69",
   "metadata": {},
   "outputs": [
    {
     "name": "stdout",
     "output_type": "stream",
     "text": [
      "z-score =  -0.6669495981562988\n",
      "p-value =  0.5048043283429842\n",
      "\n",
      "P-value score (0.5) is bigger than alpha threshold (0.05), we don't have enough convidence to reject null hypothesis.\n"
     ]
    }
   ],
   "source": [
    "from statsmodels.stats.weightstats import ztest \n",
    "\n",
    "z_score, p_value = ztest(control_group['converted'],treatment_group['converted'])\n",
    "print('z-score = ',z_score)\n",
    "print('p-value = ',p_value)\n",
    "\n",
    "if p_value<0.05:\n",
    "    print('\\nP-value score ({}) is smaller than alpha threshold (0.05), we have enough evidence to reject null hypothesis.' .format(p_value.round(2)))\n",
    "else:\n",
    "    print('\\nP-value score ({}) is bigger than alpha threshold (0.05), we don\\'t have enough convidence to reject null hypothesis.' .format(p_value.round(2)))"
   ]
  },
  {
   "cell_type": "markdown",
   "id": "7796118d",
   "metadata": {},
   "source": [
    "### **Result** \n",
    "\n",
    "We don't have enough convidence to reject null hypothesis, therefore we **accept null hypothesis**. \n",
    "\n",
    "\n",
    "### **Conclusion**\n",
    "\n",
    "The conversion rate of old design **is equal** to conversion rate of new design. So, new version of menu page **doesn't give better** conversion rate."
   ]
  }
 ],
 "metadata": {
  "kernelspec": {
   "display_name": "Python 3 (ipykernel)",
   "language": "python",
   "name": "python3"
  },
  "language_info": {
   "codemirror_mode": {
    "name": "ipython",
    "version": 3
   },
   "file_extension": ".py",
   "mimetype": "text/x-python",
   "name": "python",
   "nbconvert_exporter": "python",
   "pygments_lexer": "ipython3",
   "version": "3.9.12"
  }
 },
 "nbformat": 4,
 "nbformat_minor": 5
}
